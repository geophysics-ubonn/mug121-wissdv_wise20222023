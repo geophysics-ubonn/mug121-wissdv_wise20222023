{
 "cells": [
  {
   "cell_type": "markdown",
   "metadata": {},
   "source": [
    "Wintersemester 2022/2023"
   ]
  },
  {
   "cell_type": "markdown",
   "metadata": {},
   "source": [
    "# mug121 - Wissenschaftliche Datenverarbeitung: Python-Einführung – Notebook 1"
   ]
  },
  {
   "cell_type": "code",
   "execution_count": 1,
   "metadata": {},
   "outputs": [
    {
     "name": "stdout",
     "output_type": "stream",
     "text": [
      "Willkommen zur Python-Einführung im Modul 'Wissenschaftliche Datenverarbeitung'!\n"
     ]
    }
   ],
   "source": [
    "print(\"Willkommen zur Python-Einführung im Modul 'Wissenschaftliche Datenverarbeitung'!\")"
   ]
  },
  {
   "cell_type": "markdown",
   "metadata": {},
   "source": [
    "> Niklas Heidemann (heidemann@geo.uni-bonn.de)<br>\n",
    "> Anna Zoporowski (zoporowski@geo.uni-bonn.de)"
   ]
  },
  {
   "cell_type": "markdown",
   "metadata": {},
   "source": [
    "---\n",
    "## Python, iPython und Jupyter\n",
    "\n",
    "### Was ist Python?\n",
    "\n",
    "* universelle, interpretierte, höhere (~~Scriptsprache~~) Programmiersprache\n",
    "* objektorientierte, aspektorientierte, funktionale Programmierung (multiparadigmatisch)\n",
    "* vergleichsweise einfache, schlanke Syntax\n",
    "* open-source (gestützt durch gemeinnützige *Python Software Foundation*)\n",
    "* entwickelt von *Guido van Rossum* 1991\n",
    "* *Python* geht auf *Monty Python* und nicht auf Schlangengattung zurück\n",
    "* seit 2008 Python 3.0\n",
    "* viele etablierte Erweiterungen zu Algebra, Numerik, Darstellung etc. verfügbar\n",
    "\n",
    "\n",
    "#### Installation und Nutzung\n",
    "\n",
    "* Python 3.x (mit x $\\geq$ 6)\n",
    "* aktuelle Version unter [www.python.org](http://www.python.org \"python.org\")\n",
    "* Installation einer Distribution (Python + Erweiterungen + Werkzeuge)\n",
    "  * bspw.: [Anaconda](https://www.anaconda.com/distribution/ \"anaconda.com\"), WinPython etc.\n",
    "  * [Anaconda (conda) cheat sheet](https://docs.anaconda.com/anaconda/) ([download](https://docs.anaconda.com/_downloads/9ee215ff15fde24bf01791d719084950/Anaconda-Starter-Guide.pdf))\n",
    "\n",
    "\n",
    "* Nutzung in der Commandozeile:\n",
    "  * `python3` ([shell](https://www.python.org/shell/))\n",
    "  * [`ipython`](https://ipython.org/) (weitere interaktive Elemente verglichen mit python3 shell)\n",
    "* Nutzung als ausführbare Datei:\n",
    "  * *Python*-Script `python3 dateiname.py`\n",
    "  * Jupyter Notebook `jupyter lab dateiname.ipynb`\n",
    "  \n",
    "\n",
    "### Was ist Jupyter?\n",
    "\n",
    "* interpretierte Oberfläche zum Kompilieren von Python, R, C, Octave (Matlab), etc.\n",
    "* **Notebooks** oder Scriptfiles\n",
    "* Ordnerübersicht, Terminal, etc.\n",
    "* lokal in Distributionen enthalten (jupyter lab, jupyter hub)\n",
    "oder\n",
    "* **online** ([Jupyter Hub Geophysik](https://jupyter.geo.uni-bonn.de:8088/) / [Jupyter Hub Meteorologie](https://hub.meteo.uni-bonn.de:8000/))\n",
    "* [Online-Handbuch](https://jupyter-notebook.readthedocs.io/en/stable/index.html)\n"
   ]
  },
  {
   "cell_type": "code",
   "execution_count": 2,
   "metadata": {},
   "outputs": [
    {
     "name": "stdout",
     "output_type": "stream",
     "text": [
      "The Zen of Python, by Tim Peters\n",
      "\n",
      "Beautiful is better than ugly.\n",
      "Explicit is better than implicit.\n",
      "Simple is better than complex.\n",
      "Complex is better than complicated.\n",
      "Flat is better than nested.\n",
      "Sparse is better than dense.\n",
      "Readability counts.\n",
      "Special cases aren't special enough to break the rules.\n",
      "Although practicality beats purity.\n",
      "Errors should never pass silently.\n",
      "Unless explicitly silenced.\n",
      "In the face of ambiguity, refuse the temptation to guess.\n",
      "There should be one-- and preferably only one --obvious way to do it.\n",
      "Although that way may not be obvious at first unless you're Dutch.\n",
      "Now is better than never.\n",
      "Although never is often better than *right* now.\n",
      "If the implementation is hard to explain, it's a bad idea.\n",
      "If the implementation is easy to explain, it may be a good idea.\n",
      "Namespaces are one honking great idea -- let's do more of those!\n"
     ]
    }
   ],
   "source": [
    "import this"
   ]
  },
  {
   "cell_type": "code",
   "execution_count": 3,
   "metadata": {},
   "outputs": [],
   "source": [
    "# Easter-Egg-artige Auflistung der Grundideen/Philosophie der Programmiersprache Python"
   ]
  },
  {
   "cell_type": "markdown",
   "metadata": {},
   "source": [
    "## Syntax und Befehle\n",
    "\n",
    "(siehe auch cheat sheets - [Link auf eCampus](https://ecampus.uni-bonn.de/goto_ecampus_fold_2384996.html))\n",
    "\n",
    "wesentliche Ziele und Regeln von *Python* (Easter Egg): \n",
    "```python\n",
    "import this\n",
    "```\n",
    "\n",
    "Kommentar: `#` (Codezeile wird nicht kompiliert / ausgeführt)\n",
    "\n",
    "\n",
    "String:\n",
    "```python\n",
    "\"string\"\n",
    "``` \n",
    "```python\n",
    "'string'\n",
    "```\n",
    "\n",
    "Docstring:\n",
    "```python\n",
    "\"\"\"docstring\"\"\"\n",
    "``` \n",
    "```python\n",
    "'''docstring'''\n",
    "```\n",
    "\n",
    "Hilfefunktion: \n",
    "```python\n",
    "help()\n",
    "```\n",
    "\n",
    "Abfrage Datentyp: \n",
    "```python\n",
    "type()\n",
    "```\n",
    "\n",
    "Print-Befehl: \n",
    "```python\n",
    "print()\n",
    "```\n",
    "\n",
    "Auflistung von Variablen: \n",
    "```python\n",
    "%whos\n",
    "```\n",
    "\n",
    "Ausgabe Docstring: \n",
    "```python\n",
    "this?\n",
    "```\n",
    "\n",
    "Ausgabe Sourcecode: \n",
    "```python\n",
    "this??\n",
    "```\n",
    "\n",
    "\n",
    "### Nützliche Einstellungen und Keyboard-Shortcuts im Jupyter Hub/Lab\n",
    "\n",
    "`File -> Save Notebook` `Ctrl + S`\n",
    "\n",
    "`File -> Export Notebook As...`\n",
    "\n",
    "`View -> Show Line Numbers`\n",
    "\n",
    "`Run -> Restart Kernel and Run All Cells` (kann manches Problem beheben)\n",
    "\n",
    "**Kommentar (Zeilen/Blöcke):** `Ctrl + NUM/`\n",
    "\n",
    "**Auto-Vervollständigung:** `Tab`\n",
    "\n",
    "**Hilfe über Docstring-Shortcut:** `Shift + Tab`\n",
    "\n",
    "**Ausführen (Kompilieren) von Zellen:** `Shift + Enter`\n",
    "\n",
    "Trennen von Zellen am Cursor: `Ctrl + Shift + –`"
   ]
  },
  {
   "cell_type": "markdown",
   "metadata": {},
   "source": [
    "> ## FEHLER\n",
    ">\n",
    "> * werden oft zusammen mit potentiell fehlerhaften Codefragmenten ausgegeben\n",
    "> * bei unverständlichen Fehlern zuerst Syntax überprüfen\n",
    "> * **Fehlermeldungen lesen und verstehen versuchen kann eine große Hilfe sein!**"
   ]
  },
  {
   "cell_type": "code",
   "execution_count": 4,
   "metadata": {},
   "outputs": [],
   "source": [
    "# Codezeile zum Testen\n",
    "\n"
   ]
  },
  {
   "cell_type": "markdown",
   "metadata": {},
   "source": [
    "----\n",
    "#### **Aufgabe 0:**\n",
    "\n",
    "Geben Sie ein eigenes \"Hello World\"-ähnliches Statement aus und speichern Sie es anschließend unter der Variable ```hello_world```.\n",
    "\n",
    "Hinweis: Mithilfe der Definition einer Variable lassen sich Zellenausgaben unter einer Variablen abspeichern:\n",
    "\n",
    "```python \n",
    "variable = ...\n",
    "```"
   ]
  },
  {
   "cell_type": "code",
   "execution_count": 5,
   "metadata": {},
   "outputs": [
    {
     "name": "stdout",
     "output_type": "stream",
     "text": [
      "Hallo Welt, ich bin...., mein name ist XYZ, ich beschaftige mich mit wissenschaftlicher Datenverarbeitung.\n",
      "Hallo Welt, ich bin...., mein name ist XYZ, ich beschaftige mich mit wissenschaftlicher Datenverarbeitung.\n"
     ]
    }
   ],
   "source": [
    "# Codezeile Aufgabe\n",
    "\n",
    "hello_world = \"Hallo Welt, ich bin...., mein name ist XYZ, ich beschaftige mich mit wissenschaftlicher Datenverarbeitung.\"\n",
    "print(\"Hallo Welt, ich bin...., mein name ist XYZ, ich beschaftige mich mit wissenschaftlicher Datenverarbeitung.\")\n",
    "print(hello_world)"
   ]
  },
  {
   "cell_type": "code",
   "execution_count": 6,
   "metadata": {},
   "outputs": [
    {
     "name": "stdout",
     "output_type": "stream",
     "text": [
      "Variable      Type      Data/Info\n",
      "---------------------------------\n",
      "hello_world   str       Hallo Welt, ich bin...., <...>licher Datenverarbeitung.\n",
      "this          module    <module 'this' from '/srv<...>l/lib/python3.7/this.py'>\n"
     ]
    }
   ],
   "source": [
    "%whos"
   ]
  },
  {
   "cell_type": "code",
   "execution_count": 7,
   "metadata": {},
   "outputs": [
    {
     "name": "stdout",
     "output_type": "stream",
     "text": [
      "Hallo Welt, ich bin...., mein name ist XYZ, ich beschaftige mich mit wissenschaftlicher Datenverarbeitung.\n"
     ]
    },
    {
     "data": {
      "text/plain": [
       "'Das ist mein Code, der ...'"
      ]
     },
     "execution_count": 7,
     "metadata": {},
     "output_type": "execute_result"
    }
   ],
   "source": [
    "# Folgende Zeile zum Überprüfen einkommentieren\n",
    "print(hello_world) # das ist mein Print-Statement\n",
    "\"\"\"Das ist mein Code, der ...\"\"\""
   ]
  },
  {
   "cell_type": "markdown",
   "metadata": {},
   "source": [
    "> ## Tipp: Code dokumentieren\n",
    ">\n",
    "> * Dokumentation einzelner Codezeilen / ganzer Codeblöcke mit `#` oder Docstrings\n",
    "> * theoretisches Vorgehen beschreiben\n",
    "> * Begründungen für Programmierentscheidungen liefern\n",
    "> * Warum?\n",
    ">   * Reproduzierbarkeit\n",
    ">   * Verständlichkeit \n",
    ">   * Routine\n",
    "\n",
    "----\n",
    "----\n",
    "## Datentypen\n",
    "\n",
    "*```Funktion(x)``` zum Erstellen und Umformatieren von x in den jeweiligen Datentyp, Beispiel für Formatierung des Datentyps*\n",
    "\n",
    "Integer (Ganzzahl): ```int```\n",
    "```python\n",
    "int(), 1\n",
    "``` \n",
    "\n",
    "Float (Gleitkommazahl): ```float``` (Hinweis: Statt Kommata ```,``` werden Punkte ```.``` verwendet)\n",
    "```python\n",
    "float(), 1.01\n",
    "```\n",
    "\n",
    "Komplexe Zahl: ```complex```\n",
    "```python\n",
    "complex(), 2j\n",
    "```\n",
    "\n",
    "Logische Ausdrücke: ```bool``` (```True``` oder ```False```)\n",
    "```python\n",
    "bool(), True, False\n",
    "```\n",
    "\n",
    "String (Zeichenkette): ```str``` (bedingt änderbar - Groß-/Kleinschreibung etc.)\n",
    "```python\n",
    "str(), \"string\", 'string'\n",
    "```\n",
    "\n",
    "### Container\n",
    "\n",
    "* iterierbare Objekte (***iterables***)\n",
    "* änderbar (***mutable***) / nicht änderbar\n",
    "* indizierbar (siehe auch [Indizierung von Containern](#Indizierung-von-Containern \"Link zu 'Indizierung von Containern'\"))\n",
    "\n",
    "String (Zeichenkette): ```str``` (bedingt änderbar - Groß-/Kleinschreibung etc.)\n",
    "```python\n",
    "str(), \"string\", 'string'\n",
    "```\n",
    "Tupel: ```tuple``` (**nicht änderbar**)\n",
    "```python\n",
    "tuple(), (wert1, wert2)\n",
    "```\n",
    "\n",
    "Liste: ```list``` (änderbar)\n",
    "```python\n",
    "list(), [wert1, wert2]\n",
    "```\n",
    "\n",
    "Dictionary: ```dict``` (änderbar)\n",
    "```python\n",
    "dict(), {schlüssel1 : wert1, schlüssel2 : wert2}\n",
    "```\n",
    "\n",
    "Variable / Zuweisung: (änderbar, ***case sensitive*** (Groß- und Kleinschreibung werden unterscheiden), muss sich von [**Schlüsselwörtern**](#Schlüsselwörter \"Link auf Kapitel Schlüsselwörter\") unterscheiden)\n",
    "```python\n",
    "variable = \"string\"\n",
    "```\n",
    "\n",
    "*auch Mehrfachzuweisung ist möglich:*\n",
    "```python\n",
    "var1, var2 = \"str1\", \"str2\"\n",
    "```\n",
    "\n",
    "## Schlüsselwörter\n",
    "\n",
    "```python\n",
    "\n",
    "and, as, assert, async, await \n",
    "break, \n",
    "class, continue, \n",
    "def, del, \n",
    "elif, else, except, \n",
    "False, finally, for, from, \n",
    "global, \n",
    "if, import, in, is, \n",
    "lambda, \n",
    "None, nonlocal, not, \n",
    "or, \n",
    "pass, \n",
    "raise, return, \n",
    "True, try, \n",
    "while, with, \n",
    "yield\n",
    "```"
   ]
  },
  {
   "cell_type": "markdown",
   "metadata": {},
   "source": [
    "## Operatoren\n",
    "\n",
    "### Rechenoperatoren (arithmetische Operatoren): \n",
    "```python\n",
    "+  -  *  /   **   %   //\n",
    "```\n",
    "* Summe: `+`\n",
    "* Differenz: `-`\n",
    "* Produkt: `*`\n",
    "* Quotient: `/`\n",
    "* Potenz (Power): `**`\n",
    "* Modulus (Rest bei ganzzahliger Division): `%`\n",
    "* ganzzahlige Division: `//`\n",
    "\n",
    "### Logische (boolsche) Operatoren: \n",
    "```python\n",
    "<  >  =  <=  >=  ==  !=  &  ^  not  is  in  and  or\n",
    "```\n",
    "\n",
    "* kleiner: `<`\n",
    "* größer: `>`\n",
    "* gleich (Zuweisung): `=`\n",
    "* kleiner-gleich: `<=`\n",
    "* größer-gleich: ` >=`\n",
    "* ist gleich (equals-equals): `==`\n",
    "* ungleich: `!=`\n",
    "* UND: `&`\n",
    "* ODER: `^`\n",
    "* nicht: `not`\n",
    "* identisch: `is`\n",
    "* Element/Teil: `in`\n",
    "* logisches UND: `and`\n",
    "* logisches ODER: `or`"
   ]
  },
  {
   "cell_type": "markdown",
   "metadata": {},
   "source": [
    "----\n",
    "#### **Aufgabe 1:**\n",
    "\n",
    "Berechnen Sie <br>\n",
    "a) $4 + 5$ <br>\n",
    "b) $3.5 \\cdot 4$<br>\n",
    "c) $(3000 + 200) \\cdot \\frac{3}{25}$ <br>\n",
    "d) $\"x\" + \"yz\"$ <br>\n",
    "e) $4 + 3i$ <br> mithilfe von Python und speichern Sie die Ausgaben als Variablen ```a, b, c, d``` und ```e```. \n",
    "\n",
    "Beachten Sie: Es gibt immer mehrere verschiedene Möglichkeiten um Daten, in diesem Fall Ergebnisse, auszugeben (siehe Kommentare)."
   ]
  },
  {
   "cell_type": "code",
   "execution_count": 8,
   "metadata": {},
   "outputs": [
    {
     "data": {
      "text/plain": [
       "(4+3j)"
      ]
     },
     "execution_count": 8,
     "metadata": {},
     "output_type": "execute_result"
    }
   ],
   "source": [
    "# Codezeile Aufgabe\n",
    "\n",
    "# # Ausgabe einzeln ohne print-Funktion - nur das jeweils letzte Ergebnis wird in die Outputzeile geprinted\n",
    "4+5\n",
    "3.5 * 4\n",
    "(3000 + 200) * 3 / 25\n",
    "\"x\" + \"yz\"\n",
    "4 + 3j"
   ]
  },
  {
   "cell_type": "code",
   "execution_count": 9,
   "metadata": {},
   "outputs": [
    {
     "name": "stdout",
     "output_type": "stream",
     "text": [
      "Ausgabe einzeln über print-Funktion - gibt alle Ergebnisse in die Outputzeile aus\n",
      "9\n",
      "14.0\n",
      "384.0\n",
      "xyz\n",
      "(4+3j)\n",
      "Rechnungen werden in Variablen gespeichert\n",
      "Ausgabe als Variable\n",
      "9\n",
      "14.0\n",
      "384.0\n",
      "xyz\n",
      "(4+3j)\n",
      "Ausgabe als gelabelte Variable\n",
      "a) 9\n",
      "b) 14.0\n",
      "c) 384.0\n",
      "d) xyz\n",
      "e) (4+3j)\n"
     ]
    }
   ],
   "source": [
    "# # Ausgabe einzeln über print-Funktion - gibt alle Ergebnisse in die Outputzeile aus\n",
    "print(\"Ausgabe einzeln über print-Funktion - gibt alle Ergebnisse in die Outputzeile aus\")\n",
    "print( 4+5 )\n",
    "print( 3.5 * 4 )\n",
    "print( (3000 + 200) * 3 / 25 )\n",
    "print( \"x\" + \"yz\" )\n",
    "print( 4 + 3j )\n",
    "\n",
    "# # Rechnungen werden in Variablen gespeichert\n",
    "print(\"Rechnungen werden in Variablen gespeichert\")\n",
    "a = 4 + 5\n",
    "b = 3.5 * 4\n",
    "c = (3000 + 200) * 3 / 25\n",
    "d = \"x\" + \"yz\"\n",
    "e = 4 + 3j\n",
    "\n",
    "print(\"Ausgabe als Variable\")\n",
    "print(a)\n",
    "print(b)\n",
    "print(c)\n",
    "print(d)\n",
    "print(e)\n",
    "\n",
    "print(\"Ausgabe als gelabelte Variable\")\n",
    "print(\"a)\", a)\n",
    "print(\"b)\", b)\n",
    "print(\"c)\", c)\n",
    "print(\"d)\", d)\n",
    "print(\"e)\", e)"
   ]
  },
  {
   "cell_type": "code",
   "execution_count": 10,
   "metadata": {},
   "outputs": [
    {
     "name": "stdout",
     "output_type": "stream",
     "text": [
      "a) 9\n",
      "b) 14.0\n",
      "c) 384.0\n",
      "d) xyz\n",
      "e) (4+3j)\n"
     ]
    }
   ],
   "source": [
    "# Folgende Zeile zum Überprüfen einkommentieren\n",
    "print('a) {}\\nb) {}\\nc) {}\\nd) {}\\ne) {}'.format(a, b, c, d, e))"
   ]
  },
  {
   "cell_type": "markdown",
   "metadata": {},
   "source": [
    "**Erwarteter Output:**<br>\n",
    "a) 9<br>\n",
    "b) 14.0<br>\n",
    "c) 384.0<br>\n",
    "d) xyz<br>\n",
    "e) (4+3j)<br>"
   ]
  },
  {
   "cell_type": "markdown",
   "metadata": {},
   "source": [
    "-----\n",
    "#### **Aufgabe 2:** \n",
    "\n",
    "Zu welchen [Datentypen](#Datentypen \"Link auf Kapitel Datentypen\") gehören die Lösungen von Aufgabe 1? \n",
    "\n",
    "Hinweis: Nutzen Sie die in Aufgabe 1 erstellten Variablen. "
   ]
  },
  {
   "cell_type": "code",
   "execution_count": 11,
   "metadata": {},
   "outputs": [
    {
     "name": "stdout",
     "output_type": "stream",
     "text": [
      "<class 'int'>\n",
      "<class 'float'>\n",
      "<class 'float'>\n",
      "<class 'str'>\n",
      "<class 'complex'>\n"
     ]
    },
    {
     "data": {
      "text/plain": [
       "complex"
      ]
     },
     "execution_count": 11,
     "metadata": {},
     "output_type": "execute_result"
    }
   ],
   "source": [
    "# Codezeile Aufgabe\n",
    "# gib für alle Variablen einzeln den Typ type aus:\n",
    "print( type(a) )\n",
    "print( type(b) )\n",
    "print( type(c) )\n",
    "print( type(d) )\n",
    "print( type(e) )\n",
    "type(e)"
   ]
  },
  {
   "cell_type": "code",
   "execution_count": 12,
   "metadata": {},
   "outputs": [
    {
     "name": "stdout",
     "output_type": "stream",
     "text": [
      "a) <class 'int'>\n",
      "b) <class 'float'>\n",
      "c) <class 'float'>\n",
      "d) <class 'str'>\n",
      "e) <class 'complex'>\n"
     ]
    }
   ],
   "source": [
    "# Folgende Zeile zum Überprüfen einkommentieren\n",
    "print('a) {}\\nb) {}\\nc) {}\\nd) {}\\ne) {}'.format(type(a), type(b), type(c), type(d), type(e)))"
   ]
  },
  {
   "cell_type": "markdown",
   "metadata": {},
   "source": [
    "**Erwarteter Output:**<br>\n",
    "a) int <br>\n",
    "b) float<br>\n",
    "c) float<br>\n",
    "d) str<br>\n",
    "e) complex<br>\n",
    "\n",
    "----"
   ]
  },
  {
   "cell_type": "code",
   "execution_count": 13,
   "metadata": {},
   "outputs": [],
   "source": [
    "# Codezeile zum Testen\n",
    "\n"
   ]
  },
  {
   "cell_type": "markdown",
   "metadata": {},
   "source": [
    "-----\n",
    "#### **Aufgabe 3:** \n",
    "\n",
    "Führen Sie beliebige Rechenoperationen auf verschiedene [Containertypen](#Container \"Link zu Kapitel Container\") aus. Was funktioniert? Was funktioniert nicht?"
   ]
  },
  {
   "cell_type": "code",
   "execution_count": 14,
   "metadata": {},
   "outputs": [
    {
     "name": "stdout",
     "output_type": "stream",
     "text": [
      "String:\n",
      "Tuple:\n",
      "Liste:\n",
      "Tupel und Liste und andersherum:\n",
      "Strings und ...:\n",
      "Dictionaries:\n"
     ]
    }
   ],
   "source": [
    "# Codezeile Aufgabe\n",
    "print(\"String:\")\n",
    "# addition geht\n",
    "# subtraktion geht nicht -> TypeError\n",
    "# multiplikation geht auch nicht -> TypeError\n",
    "# division geht nicht -> TypeError\n",
    "# \"xyz\" / \"abc\"\n",
    "print(\"Tuple:\")\n",
    "# addition \n",
    "# subtraktion \n",
    "# multiplikation \n",
    "# division \n",
    "# (1, 2, 3) - (4, 5, 6)\n",
    "print(\"Liste:\")\n",
    "# addition \n",
    "# subtraktion \n",
    "# multiplikation \n",
    "# division \n",
    "# [1, 2, 3]  [4, 5, 6]\n",
    "print(\"Tupel und Liste und andersherum:\")\n",
    "# addition \n",
    "# subtraktion \n",
    "# multiplikation \n",
    "# division \n",
    "# (1, 2, 3) + [1, 2, 3]\n",
    "# [1, 2, 3] + (1, 2, 3)\n",
    "print(\"Strings und ...:\")\n",
    "# addition \n",
    "# subtraktion \n",
    "# multiplikation \n",
    "# division \n",
    "# \"abc\" + (1, 2, 3)\n",
    "# (1, 2, 3) + \"abc\"\n",
    "# \"abc\" + [1, 2, 3]\n",
    "# [1, 2, 3] + \"abc\"\n",
    "print(\"Dictionaries:\")\n",
    "# {\"a\":1, \"b\":2, \"c\":3} + (1, 2, 3)"
   ]
  },
  {
   "cell_type": "markdown",
   "metadata": {},
   "source": [
    "-----\n",
    "#### **Aufgabe 4:** \n",
    "\n",
    "**Vergleich**\n",
    "\n",
    "Mithilfe logischer Operatoren lassen sich Vergleiche durchführen, die `True` oder `False` als Antwort zurückgeben.\n",
    "\n",
    "Führen Sie die folgenden Vergleiche durch:<br>\n",
    "a) Ist `a` größer als `b`?<br>\n",
    "b) Sind die Datentypen von `b` und `c` gleich?<br>\n",
    "c) Befindet sich der String `x` in der Variablen `d`?<br>\n",
    "d) Ist der Inhalt der Variablen `a` kleiner-gleich als 10? Ist er auch kleiner?<br>\n",
    "e) Ist der Inhalt der Variablen `e` gleich der komplexen Zahl `4+3i`?<br>"
   ]
  },
  {
   "cell_type": "code",
   "execution_count": 15,
   "metadata": {},
   "outputs": [
    {
     "name": "stdout",
     "output_type": "stream",
     "text": [
      "a) False\n",
      "b) True\n",
      "c) True\n",
      "d) True\n",
      "d) True\n",
      "e) True\n"
     ]
    }
   ],
   "source": [
    "# Codezeile Aufgabe\n",
    "\n",
    "print(\"a)\", a > b )\n",
    "print(\"b)\", type(b) == type(c) )\n",
    "print(\"c)\", \"x\" in d)\n",
    "print(\"d)\", a <= 10)\n",
    "print(\"d)\", a < 10)\n",
    "print(\"e)\", e == 4+3j)"
   ]
  },
  {
   "cell_type": "markdown",
   "metadata": {},
   "source": [
    "----\n",
    "### Indizierung von Containern\n",
    "\n",
    "Siehe auch [Container](#Container \"Link zum Kapitel Container\").\n",
    "\n",
    "> #### Die Null-Indizierung:\n",
    "> Python beginnt beim Zählen (Indizieren von Objekten, etc.) bei 0. <br>\n",
    "\n",
    "* Beginn von links bei `0`\n",
    "* Beginn von rechts bei `-1`\n",
    "* Elemente: `[von:bis:Schrittweite]`\n",
    "\n",
    "Beispiel:<br>\n",
    "Das erste Element einer Liste `liste = [1, 2, 3]` ist die `1`, wird jedoch in Python als Element `0` angesprochen (indiziert).\n",
    "```python\n",
    "liste = [1, 2, 3]\n",
    "liste[0] # gibt das erste Element aus\n",
    "liste[-1] # gibt das letzte Element aus\n",
    "liste[1:2] # gibt das zweite bis ausschließlich dritte Element aus\n",
    "liste[1:3] # gibt das zweite bis einschließlich dritte Element aus\n",
    "liste[::2] # beginnt beim ersten Element (0) und gibt jedes zweite aus\n",
    "```\n",
    "\n",
    "Diese Art der Indizierung funktioniert bei allen Containern.\n",
    "\n",
    "#### Indizierung von Dictionaries `dict`:\n",
    "\n",
    "Hier wird der gezählte Index durch den Schlüssel ersetzt. Schlüssel-Wert-Paare lassen sich mit der Methode `.items()` als Tuple-Einträge in einer Liste auslesen. Zusätzlich lassen sich die Schlüssel und Werte als separate Listen aus einem Dictionary auslesen. Diese wiederum sind normal indizierbar.\n",
    "\n",
    "```python\n",
    "dictionary = {'a':1, 'b':2, 'c':3}\n",
    "dictionary['a'] # Indizierung nach Schlüssel\n",
    "dictionary_list = list(dictionary.items()) # Schlüssel-Wert-Paare als Liste\n",
    "keys_list = list(dictionary.keys()) # Schlüssel als Liste \n",
    "values_list = list(dictionary.values()) # Werte als Liste\n",
    "```\n",
    "\n",
    "> #### Größe / Länge eines Containers ausgeben lassen:\n",
    "> Mithilfe der Funktion \n",
    "> ```python\n",
    "> len(container)\n",
    "> ```\n",
    "> <br>\n",
    "> lässt sich die Größe bzw. die Anzahl der Einträge abfragen.<br>\n",
    "> Auch hier indiziert Python intern bei Null beginnend, allerdings wird die tatsächliche Anzahl der Elemente angegeben und nicht der Zähler des letzten Elements. \n",
    "\n",
    "### Überschreiben von Einträgen:\n",
    "\n",
    "Funktioniert bei Strings `str`, Listen `list` und Dictionaries `dict`:\n",
    "\n",
    "```python\n",
    "liste[0] = -1 # überschreibe das erste Element mit einem neuen Wert\n",
    "dictionary['a'] = 111 # überschreibe den Wert des Schlüssels 'a' mit einem neuen Wert\n",
    "```\n",
    "\n",
    "Funktioniert nicht bei Tupeln `tuple`, da diese nicht änderbar sind.\n",
    "\n",
    "### Anhängen von Einträgen:\n",
    "\n",
    "Funktioniert bei Listen `list` und Dictionaries `dict`:\n",
    "\n",
    "```python\n",
    "liste.append([4, 5, 6]) # anhängen an Listen mittels .append()\n",
    "dictionary['d'] = 4 # anhängen an Dictionaries durch Erstellen eines neuen Schlüssel-Wert-Paares\n",
    "```"
   ]
  },
  {
   "cell_type": "code",
   "execution_count": 16,
   "metadata": {},
   "outputs": [
    {
     "name": "stdout",
     "output_type": "stream",
     "text": [
      "[-1, 2, 3]\n",
      "{'a': 111, 'b': 2, 'c': 3, 1: 365}\n",
      "(1, 2, 3)\n"
     ]
    }
   ],
   "source": [
    "# Codezeile zum Testen\n",
    "# string = \"abc\"\n",
    "# string[1] = \"x\"\n",
    "liste = [1, 2, 3]\n",
    "liste[0] = -1 # überschreibe das erste Element mit einem neuen Wert\n",
    "dictionary = {'a':1, 'b':2, 'c':3, 1:365}\n",
    "dictionary['a'] = 111 # überschreibe den Wert des Schlüssels 'a' mit einem neuen Wert\n",
    "tupel = (1, 2, 3)\n",
    "# tupel[0] = -1 ## funktioniert nicht, not mutable\n",
    "# print(string)\n",
    "print(liste)\n",
    "print(dictionary)\n",
    "print(tupel)"
   ]
  },
  {
   "cell_type": "code",
   "execution_count": 17,
   "metadata": {},
   "outputs": [
    {
     "name": "stdout",
     "output_type": "stream",
     "text": [
      "[-1, 2, 3, [4, 5, 6], 365]\n",
      "{'a': 111, 'b': 2, 'c': 3, 1: 365, 'd': 4, 'e': (1, 2, [10, 11]), 'f': 'abcdefg'}\n"
     ]
    }
   ],
   "source": [
    "liste.append([4, 5, 6]) # anhängen an Listen mittels .append()\n",
    "dictionary['d'] = 4 # anhängen an Dictionaries durch Erstellen eines neuen Schlüssel-Wert-Paares\n",
    "liste.append(365)\n",
    "\n",
    "dictionary[\"e\"] = (1, 2, [10, 11])\n",
    "dictionary[\"f\"] = \"abcdefg\"\n",
    "print(liste)\n",
    "print(dictionary)"
   ]
  },
  {
   "cell_type": "code",
   "execution_count": 18,
   "metadata": {},
   "outputs": [
    {
     "name": "stdout",
     "output_type": "stream",
     "text": [
      "[1, 2, 3]\n",
      "1\n",
      "3\n",
      "[2]\n",
      "[2, 3]\n",
      "[1, 3]\n",
      "=== # ===\n",
      "[1]\n",
      "[2, 3]\n",
      "[1, 2, 3]\n"
     ]
    }
   ],
   "source": [
    "# Codezeile zum Testen\n",
    "\n",
    "liste = [1, 2, 3]\n",
    "print(liste)\n",
    "print(liste[0]) # gibt das erste Element aus\n",
    "print(liste[-1]) # gibt das letzte Element aus\n",
    "print(liste[1:2]) # gibt das zweite bis ausschließlich dritte Element aus\n",
    "print(liste[1:3]) # gibt das zweite bis einschließlich dritte Element aus\n",
    "print(liste[::2]) # beginnt beim ersten Element (0) und gibt jedes zweite aus\n",
    "print(\"=== # ===\")\n",
    "print(liste[::3]) # beginnt beim ersten Element (0) und gibt jedes dritte aus\n",
    "print(liste[1:]) # erstes Element abgeschnitten\n",
    "print(liste[::]) # alle Einträge"
   ]
  },
  {
   "cell_type": "code",
   "execution_count": 19,
   "metadata": {},
   "outputs": [
    {
     "name": "stdout",
     "output_type": "stream",
     "text": [
      "{'a': 1, 'b': 2, 'c': 3, 1: 365}\n",
      "<class 'dict'>\n",
      "2\n",
      "365\n"
     ]
    }
   ],
   "source": [
    "# Codezeile zum Testen\n",
    "\n",
    "dictionary = {'a':1, 'b':2, 'c':3, 1:365}\n",
    "print(dictionary)\n",
    "print(type(dictionary))\n",
    "print(dictionary[\"b\"])\n",
    "print(dictionary[1])"
   ]
  },
  {
   "cell_type": "code",
   "execution_count": 20,
   "metadata": {},
   "outputs": [
    {
     "name": "stdout",
     "output_type": "stream",
     "text": [
      "[('a', 1), ('b', 2), ('c', 3), (1, 365)]\n",
      "dict_items([('a', 1), ('b', 2), ('c', 3), (1, 365)])\n",
      "<class 'dict_items'>\n",
      "<class 'list'>\n"
     ]
    }
   ],
   "source": [
    "dictionary_list = list(dictionary.items()) # Schlüssel-Wert-Paare als Liste \n",
    "print(dictionary_list)\n",
    "print(dictionary.items())\n",
    "print( type(dictionary.items()) )\n",
    "print( type(dictionary_list) )"
   ]
  },
  {
   "cell_type": "code",
   "execution_count": 21,
   "metadata": {},
   "outputs": [
    {
     "name": "stdout",
     "output_type": "stream",
     "text": [
      "['a', 'b', 'c', 1]\n",
      "dict_keys(['a', 'b', 'c', 1]) direkte Ausgabe Methode\n"
     ]
    }
   ],
   "source": [
    "keys_list = list(dictionary.keys()) # Schlüssel als Liste \n",
    "print(keys_list)\n",
    "print(dictionary.keys(), \"direkte Ausgabe Methode\")"
   ]
  },
  {
   "cell_type": "code",
   "execution_count": 22,
   "metadata": {},
   "outputs": [
    {
     "name": "stdout",
     "output_type": "stream",
     "text": [
      "[1, 2, 3, 365]\n",
      "dict_values([1, 2, 3, 365])\n"
     ]
    }
   ],
   "source": [
    "values_list = list(dictionary.values())\n",
    "print(values_list)\n",
    "print(dictionary.values())"
   ]
  },
  {
   "cell_type": "markdown",
   "metadata": {},
   "source": [
    "---\n",
    "#### **Aufgabe 5:** \n",
    "\n",
    "a) Lassen Sie sich jeweils das dritte Element aus den folgenden vorgespeicherten Containern in der Reihenfolge 1-4 ausgeben:"
   ]
  },
  {
   "cell_type": "code",
   "execution_count": 23,
   "metadata": {},
   "outputs": [],
   "source": [
    "# DO NOT TOUCH Beginn - wenn nötig ausführen\n",
    "container1 = \"Pymugthon is fun!\"\n",
    "container2 = (11, 22, 121, 187, 0.1, -21)\n",
    "container3 = {0:35, 1:9j, \"test\":'WissDV', 'd':False}\n",
    "container4 = ['3.7', 'abc', 'WiSe2022/2023', 3*8]\n",
    "# DO NOT TOUCH Ende"
   ]
  },
  {
   "cell_type": "code",
   "execution_count": 24,
   "metadata": {},
   "outputs": [
    {
     "name": "stdout",
     "output_type": "stream",
     "text": [
      "m\n",
      "121\n",
      "WissDV\n",
      "WiSe2022/2023\n"
     ]
    }
   ],
   "source": [
    "# Codezeile Aufgabe\n",
    "\n",
    "print(container1[2])\n",
    "print(container2[2])\n",
    "print(container3[\"test\"])\n",
    "print(container4[2])"
   ]
  },
  {
   "cell_type": "code",
   "execution_count": 25,
   "metadata": {},
   "outputs": [],
   "source": [
    "# Codezeile zum Test von Strings:\n",
    "\n"
   ]
  },
  {
   "cell_type": "markdown",
   "metadata": {},
   "source": [
    "b) Nutzen Sie die Indizierungsmethode um den dritten Wert der Variable `container4` durch die Zeichenkette `Python` zu ersetzen und wiederholen Sie das Prozedere aus Aufgabe a)."
   ]
  },
  {
   "cell_type": "code",
   "execution_count": 26,
   "metadata": {},
   "outputs": [
    {
     "name": "stdout",
     "output_type": "stream",
     "text": [
      "m 121 WissDV Python\n"
     ]
    }
   ],
   "source": [
    "# Codezeile Aufgabe\n",
    "\n",
    "container4[2] = \"Python\"\n",
    "print(container1[2], container2[2], container3[\"test\"], container4[2])"
   ]
  },
  {
   "cell_type": "markdown",
   "metadata": {},
   "source": [
    "**Kontrollergebnis:**<br>\n",
    "`m 121 WissDV Python`"
   ]
  },
  {
   "cell_type": "markdown",
   "metadata": {},
   "source": [
    "c) Nutzen Sie die Indizierungsmethode um sich die Zeichenkette `mug 121 WissDV Python is fun!` aus einer Kombination der vorgespeicherten Container aus Aufgabe a) und des geänderten Containers aus Aufgabe b) ausgeben zu lassen."
   ]
  },
  {
   "cell_type": "code",
   "execution_count": 27,
   "metadata": {},
   "outputs": [
    {
     "name": "stdout",
     "output_type": "stream",
     "text": [
      "mug 121 WissDV Python is fun!\n",
      "mug 121 WissDV Python is fun!\n"
     ]
    }
   ],
   "source": [
    "# Codezeile Aufgabe\n",
    "\n",
    "print(container1[2:5], container2[2], container3[\"test\"], container4[2], container1[10:]) # Indizierung von links nach rechts gezählt\n",
    "print(container1[2:5], container2[2], container3[\"test\"], container4[2], container1[-7:]) # Indizierung von rechts nach links gezählt (-)"
   ]
  },
  {
   "cell_type": "markdown",
   "metadata": {},
   "source": [
    "d) Fügen Sie `container3` und `container4` jeweils einen beliebigen Eintrag hinzu. \n",
    "\n",
    "Hinweis: Nutzen Sie für den Dictionary die Indizierungsmethode und einen neuen Schlüssel und für die Liste die Methode ```.append()```."
   ]
  },
  {
   "cell_type": "code",
   "execution_count": 28,
   "metadata": {},
   "outputs": [
    {
     "name": "stdout",
     "output_type": "stream",
     "text": [
      "{0: 35, 1: 9j, 'test': 'WissDV', 'd': False, 'e': 2j} \n",
      " ['3.7', 'abc', 'Python', 24, 99999]\n"
     ]
    }
   ],
   "source": [
    "# Codezeile Aufgabe\n",
    "c3 = 2j\n",
    "container3[\"e\"] = c3\n",
    "container4.append(99999)\n",
    "print(container3, \"\\n\", container4)"
   ]
  },
  {
   "cell_type": "markdown",
   "metadata": {},
   "source": [
    "e) Lassen Sie sich die Zeichenkette `\"fun\"` mithilfe eines einzigen Befehls aus `container1` ausgeben.\n",
    "\n",
    "Hinweis: Nutzen Sie die Möglichkeiten aus [Indizierung von Containern](#Indizierung-von-Containern \"Link zu 'Indizierung von Containern'\")."
   ]
  },
  {
   "cell_type": "code",
   "execution_count": 29,
   "metadata": {},
   "outputs": [
    {
     "name": "stdout",
     "output_type": "stream",
     "text": [
      "fun\n"
     ]
    }
   ],
   "source": [
    "# Codezeile Aufgabe\n",
    "\n",
    "print(container1[-4:-1])"
   ]
  },
  {
   "cell_type": "code",
   "execution_count": 30,
   "metadata": {},
   "outputs": [],
   "source": [
    "# Vorschau: Funktionen\n",
    "\n",
    "def name():\n",
    "    print()\n",
    "    pass"
   ]
  },
  {
   "cell_type": "code",
   "execution_count": null,
   "metadata": {},
   "outputs": [],
   "source": []
  },
  {
   "cell_type": "markdown",
   "metadata": {},
   "source": [
    "----\n",
    "----\n",
    "## Grundstruktur von Python-Programmen\n",
    "\n",
    "```python\n",
    "Anweisung\n",
    "…\n",
    "Anweisungskopf:\n",
    "    Anweisung # Anweisungskörper\n",
    "    …\n",
    "    Anweisung\n",
    "```\n",
    "\n",
    "### Funktionen und Methoden\n",
    "\n",
    "Funktion:\n",
    "```python\n",
    "help()\n",
    "eigene_funktion()\n",
    "```\n",
    "\n",
    "Methode:\n",
    "```python\n",
    "list.append()\n",
    "```\n",
    "\n",
    "Folgende Funktionen sind standartmäßig in *Python3* vorhanden (build-in) und werden häufig gebraucht:\n",
    "\n",
    "```python\n",
    "abs() # berechnet Betrag\n",
    "complex() # erzeugt komplexe Zahl\n",
    "dict() # erzeugt Dictionary\n",
    "enumerate() # Aufzählungsiterator für iterierbares Objekt\n",
    "float() # erzeugt Gleitkommazahl\n",
    "help() # Aufruf der interaktiven Hilfe\n",
    "int() # erzeugt Ganzzahl\n",
    "len() # Länge einer Instanz\n",
    "list() # erzeugt Liste\n",
    "map() # wendet Funktion auf jedes Element eines iterierbaren Objektes an\n",
    "max() # größtes Element eines iterierbaren Objektes\n",
    "min() # kleinstes Element eines iterierbaren Objektes\n",
    "print() # Ausgabe\n",
    "range() # erzeugt Iterator über Zahlenfolge im einem Bereich\n",
    "round() # rundet auf Anzahl von Nachkommastellen\n",
    "sorted() # sortiert iterierbaes Objekt\n",
    "str() # erzeugt Zeichenkette (String)\n",
    "sum() # berechnet die Summe aller Elemente eines iterierbaren Objektes zurück\n",
    "tuple() # erzeugt Tupel\n",
    "type() # gibt Datentyp einer Instanz zurück\n",
    "zip() # fasst Elemente iterierbarer Objekte (Sequenzen) zu Tupeln zusammen (bspw. für for-Schleife)\n",
    "und einige mehr\n",
    "```"
   ]
  },
  {
   "cell_type": "markdown",
   "metadata": {},
   "source": [
    "----\n",
    "#### **Aufgabe 6:** \n",
    "\n",
    "Welche Möglichkeiten bietet die Funktion\n",
    "```python \n",
    "print()\n",
    "```\n",
    "zur Ausgabe von Daten? \n",
    "\n",
    "Hinweis: Lassen Sie sich den Docstring der Funktion anzeigen."
   ]
  },
  {
   "cell_type": "code",
   "execution_count": 31,
   "metadata": {},
   "outputs": [
    {
     "name": "stdout",
     "output_type": "stream",
     "text": [
      "a b\n",
      "ab\n",
      "\n",
      "a b\n"
     ]
    },
    {
     "data": {
      "text/plain": [
       "\u001b[0;31mDocstring:\u001b[0m\n",
       "print(value, ..., sep=' ', end='\\n', file=sys.stdout, flush=False)\n",
       "\n",
       "Prints the values to a stream, or to sys.stdout by default.\n",
       "Optional keyword arguments:\n",
       "file:  a file-like object (stream); defaults to the current sys.stdout.\n",
       "sep:   string inserted between values, default a space.\n",
       "end:   string appended after the last value, default a newline.\n",
       "flush: whether to forcibly flush the stream.\n",
       "\u001b[0;31mType:\u001b[0m      builtin_function_or_method\n"
      ]
     },
     "metadata": {},
     "output_type": "display_data"
    }
   ],
   "source": [
    "# Codezeile Aufgabe\n",
    "\n",
    "print??\n",
    "print(\"a\", \"b\")\n",
    "print(\"a\", \"b\", sep=\"\", end=\"\\n\\n\")\n",
    "print(\"a\", \"b\")"
   ]
  },
  {
   "cell_type": "code",
   "execution_count": 32,
   "metadata": {},
   "outputs": [],
   "source": [
    "# Codezeile: Beispiel für weitere Funktionalität von print:\n",
    "\n",
    "f = open(\"data/print_test.txt\", \"w\") # Textfile zum Schreiben öffnen und an Variable f übergeben\n",
    "print(\"Das ist ein Test\\n 123\", file=f) # Text mittels print in Textfile (file=Variable f) schreiben\n",
    "f.close() # Textfile schließen"
   ]
  },
  {
   "cell_type": "code",
   "execution_count": 33,
   "metadata": {},
   "outputs": [
    {
     "name": "stdout",
     "output_type": "stream",
     "text": [
      "Das ist ein Test\n",
      " 123\n",
      "\n"
     ]
    }
   ],
   "source": [
    "print_test = open(\"data/print_test.txt\", \"r\") # Textfile zum Lesen öffnen und als Variable print_test speichern\n",
    "print(print_test.read()) # print_test ausgeben mittels Methode read."
   ]
  },
  {
   "cell_type": "markdown",
   "metadata": {},
   "source": [
    "----\n",
    "### Schleifen\n",
    "\n",
    "* **bis zur Erfüllung der Bedingung im Schleifenkopf werden alle Anweisungen im Schleifenkörper ausgeführt**\n",
    "* Iteration über Container\n",
    "```python\n",
    "for i in container:\n",
    "    print(i)\n",
    "```\n",
    "\n",
    "\n",
    "* \"Während\"-Anweisungen\n",
    "* \"Wenn-dann\" Anweisungen\n",
    "* Kombinationen\n",
    "* Schlüsselwörter `for`, `while`, `if`, `elif`, `else`\n",
    "\n",
    "Die `for`-Schleife:\n",
    "```python\n",
    "for bedingung: # Schleifenkopf\n",
    "    anweisung # Schleifenkörper\n",
    "```\n",
    "\n",
    "Die `while`-Schleife: (Vorsicht beim Setzen der Bedingung - Schleifen laufen bis zur Erfüllung der Bedingung, bei Nicht-Erfüllung auch ewig)\n",
    "```python\n",
    "while bedingung:\n",
    "    anweisung\n",
    "```\n",
    "\n",
    "Die `if`-Schleife:\n",
    "```python\n",
    "if bedingung:\n",
    "    anweisung\n",
    "elif bedingung:\n",
    "    anweisung\n",
    "else:\n",
    "    anweisung\n",
    "```"
   ]
  },
  {
   "cell_type": "code",
   "execution_count": 34,
   "metadata": {},
   "outputs": [],
   "source": [
    "# Codezeile zum Testen\n",
    "\n"
   ]
  },
  {
   "cell_type": "markdown",
   "metadata": {},
   "source": [
    "----\n",
    "#### **Aufgabe 7:** \n",
    "\n",
    "Erstellen Sie einen beliebigen eigenen Container, iterieren Sie mithilfe einer `for`-Schleife über diesen und lassen sie sich die Einträge dabei einzeln ausgeben."
   ]
  },
  {
   "cell_type": "code",
   "execution_count": 35,
   "metadata": {},
   "outputs": [
    {
     "name": "stdout",
     "output_type": "stream",
     "text": [
      "tuple:\n",
      "1\n",
      "2\n",
      "3\n",
      "4\n",
      "5\n",
      "6\n",
      "7\n",
      "8\n",
      "==#==\n",
      "list:\n",
      "1\n",
      "2\n",
      "3\n",
      "4\n",
      "5\n",
      "6\n",
      "7\n",
      "8\n",
      "==#==\n",
      "dict:\n",
      "1\n",
      "2\n",
      "3\n",
      "4\n",
      "5\n",
      "6\n",
      "7\n",
      "8\n",
      "==#==\n",
      "dict (einzelne Einträge):\n",
      "1\n",
      "2\n",
      "...\n",
      "==#==\n",
      "str:\n",
      "e\n",
      "n\n",
      "t\n",
      "r\n",
      "y\n"
     ]
    }
   ],
   "source": [
    "# Codezeile Aufgabe\n",
    "\n",
    "print(\"tuple:\")\n",
    "mein_neuer_container = (1, 2, 3, 4, 5, 6, 7, 8)\n",
    "for iterator in mein_neuer_container:\n",
    "    print(iterator)\n",
    "\n",
    "print(\"==#==\")\n",
    "\n",
    "print(\"list:\")\n",
    "mein_neuer_container = [1, 2, 3, 4, 5, 6, 7, 8]\n",
    "for iterator in mein_neuer_container:\n",
    "    print(iterator)\n",
    "\n",
    "print(\"==#==\")\n",
    "print(\"dict:\")\n",
    "mein_neuer_container = {\"entry\": [1, 2, 3, 4, 5, 6, 7, 8]}\n",
    "for iterator in mein_neuer_container[\"entry\"]:\n",
    "    print(iterator)\n",
    "\n",
    "print(\"==#==\")\n",
    "print(\"dict (einzelne Einträge):\")\n",
    "print(mein_neuer_container[\"entry\"][0])\n",
    "print(mein_neuer_container[\"entry\"][1])\n",
    "print(\"...\")\n",
    "\n",
    "print(\"==#==\")\n",
    "print(\"str:\")\n",
    "mein_neuer_container = \"entry\"\n",
    "for iterator in mein_neuer_container:\n",
    "    print(iterator)"
   ]
  },
  {
   "cell_type": "markdown",
   "metadata": {},
   "source": [
    "----\n",
    "#### **Aufgabe 8:** \n",
    "\n",
    "Nutzen Sie eine `for`-Schleife, um einen eigenen Container zu erstellen. Gehen Sie dabei nach folgendem Schema vor:\n",
    "\n",
    "```python\n",
    "container = [] # Initialisierug des Containers: \"erstelle eine leere Liste und weise sie der Variable `container` zu\"\n",
    "for i in range(1, 10, 2): # Schleifenkopf mit Iterationsanweisung \"für jedes i im Bereich von 1 bis 10 mit der Schrittweite 2:\"\n",
    "    container.append(i) # Schleifenkörper mit Anweisung \"hänge für jedes i das i an den Container an\"\n",
    "```\n",
    "Hinweis: Nutzen Sie alle ihnen bekannten Befehle, um sich die Abläufe dieses Prozesses zu verdeutlichen (bspw. `print, help, len, ?, ??`).    \n"
   ]
  },
  {
   "cell_type": "code",
   "execution_count": 36,
   "metadata": {},
   "outputs": [
    {
     "name": "stdout",
     "output_type": "stream",
     "text": [
      "Gerade ist Eintrag 1 an der Reihe\n",
      "Länge vor Anhängen: 0\n",
      "Länge nach Anhängen: 1\n",
      "[1]\n",
      "==#==\n",
      "Gerade ist Eintrag 3 an der Reihe\n",
      "Länge vor Anhängen: 1\n",
      "Länge nach Anhängen: 2\n",
      "[1, 3]\n",
      "==#==\n",
      "Gerade ist Eintrag 5 an der Reihe\n",
      "Länge vor Anhängen: 2\n",
      "Länge nach Anhängen: 3\n",
      "[1, 3, 5]\n",
      "==#==\n",
      "Gerade ist Eintrag 7 an der Reihe\n",
      "Länge vor Anhängen: 3\n",
      "Länge nach Anhängen: 4\n",
      "[1, 3, 5, 7]\n",
      "==#==\n",
      "Gerade ist Eintrag 9 an der Reihe\n",
      "Länge vor Anhängen: 4\n",
      "Länge nach Anhängen: 5\n",
      "[1, 3, 5, 7, 9]\n",
      "==#==\n",
      "nach der Schleife\n"
     ]
    }
   ],
   "source": [
    "# Codezeile Aufgabe\n",
    "f = open(\"data/container_erstellen.txt\", \"w\")  # Textfile zum Schreiben öffnen und an Variable f übergeben\n",
    "f.close() # Textfile schließen\n",
    "##\n",
    "container = [] # Initialisierug des Containers: \"erstelle eine leere Liste und weise sie der Variable `container` zu\"\n",
    "for i in range(1, 10, 2): # Schleifenkopf mit Iterationsanweisung \"für jedes i im Bereich von 1 bis 10 mit der Schrittweite 2:\"\n",
    "    print(\"Gerade ist Eintrag\", i, \"an der Reihe\")\n",
    "    print(\"Länge vor Anhängen:\", len(container))\n",
    "    container.append(i) # Schleifenkörper mit Anweisung \"hänge für jedes i das i an den Container an\"\n",
    "    print(\"Länge nach Anhängen:\", len(container))\n",
    "    ##\n",
    "    f = open(\"data/container_erstellen.txt\", \"a\") # Textfile zum Anhängen (\"a\") öffnen und an Variable f übergeben\n",
    "    print(i, file=f, end=\"\") # Text mittels print in Textfile (file=Variable f) schreiben\n",
    "    f.close() # Textfile schließen\n",
    "    ##\n",
    "    print(container)\n",
    "    print(\"==#==\")\n",
    "print(\"nach der Schleife\")"
   ]
  },
  {
   "cell_type": "markdown",
   "metadata": {},
   "source": [
    "----\n",
    "#### **Aufgabe 9:** \n",
    "\n",
    "Schreiben Sie eine `while`-Schleife, die die Zahlen von 10 bis 20 ausgibt. Orientieren Sie sich am folgenden Schema:\n",
    "\n",
    "```python\n",
    "i = 0 # Initialisierung der Iterators \"i soll bei 0 beginnen\"\n",
    "while i < 5: # Schleifenkopf mit Bedingung \"solange i kleiner als 5 ist\"\n",
    "    print('Hello World!') # Anweisung\n",
    "    i = i + 1 # Erhöhung des Iterators am Ende der Schleife \n",
    "    # -> Erhöhung von i um 1 in der Bedingung des nächsten Durchlaufs\n",
    "```\n",
    "\n",
    "**Hinweis: Achten Sie darauf, dass der Iterator am Ende jedes Schleifendurchgangs erhöht wird (bspw.** `i = i + 1` oder `i += 1`**). Ansonsten droht die Schleife ewig zu laufen.** Zudem muss der Iterator gegebenenfalls vor der Schleife initialisiert werden."
   ]
  },
  {
   "cell_type": "code",
   "execution_count": 37,
   "metadata": {},
   "outputs": [
    {
     "name": "stdout",
     "output_type": "stream",
     "text": [
      "10\n",
      "11\n",
      "12\n",
      "13\n",
      "14\n",
      "15\n",
      "16\n",
      "17\n",
      "18\n",
      "19\n",
      "20\n"
     ]
    }
   ],
   "source": [
    "# Codezeile Aufgabe\n",
    "\n",
    "i = 10 # Initialisierung der Iterators \"i soll bei 0 beginnen\"\n",
    "while i <= 20: # Schleifenkopf mit Bedingung \"solange i kleiner als 5 ist\"\n",
    "    print(i) # Anweisung\n",
    "    i = i + 1 # Erhöhung des Iterators am Ende der Schleife \n",
    "    # -> Erhöhung von i um 1 in der Bedingung des nächsten Durchlaufs\n",
    "#     print(i) # Kontrolle der Erhöhung, hier auskommentiert."
   ]
  },
  {
   "cell_type": "markdown",
   "metadata": {},
   "source": [
    "----\n",
    "#### **Aufgabe 10:** \n",
    "\n",
    "\n",
    "Deklarieren Sie einen beliebigen Container als Variable. Nutzen Sie die `if`-Schleife, um einen `print`-Befehl auszugeben, falls die Bedingung \n",
    "```python\n",
    "\"a\" in variablenname\n",
    "``` \n",
    "gegeben ist. Fügen Sie eine `else`-Schleife für den Fall, dass die Bedingung nicht zutrifft, hinzu. "
   ]
  },
  {
   "cell_type": "code",
   "execution_count": 38,
   "metadata": {},
   "outputs": [
    {
     "name": "stdout",
     "output_type": "stream",
     "text": [
      "ist drin\n"
     ]
    }
   ],
   "source": [
    "# Codezeile Aufgabe\n",
    "\n",
    "variablenname = [\"abc\", 123, \"u\", \"a\"]\n",
    "\n",
    "if \"a\" in variablenname:\n",
    "    print(\"ist drin\")\n",
    "elif \"abc\" in variablenname:\n",
    "    print(\"alternative ist drin\")\n",
    "else:\n",
    "    print(\"ist nicht drin\")\n"
   ]
  },
  {
   "cell_type": "markdown",
   "metadata": {},
   "source": [
    "----\n",
    "#### **Aufgabe 11:** \n",
    "\n",
    "**Game: Zahlenraten**\n",
    "\n",
    "**ACHTUNG: Gehen Sie überlegt mit der `while`-Schleife um! Falsch gesetzte Bedingungen und fehlende Abbruchbedingungen können zu ewigen Schleifendurchläufen führen. Der manuelle Abbruch kostet Zeit.**\n",
    "\n",
    "Folgender Code behandelt die Verknüpfung von `while`- und `if`-Schleifen:\n",
    "\n",
    "\n",
    "```python\n",
    "gesuchte_zahl = 1337\n",
    "rate_versuch = -1\n",
    "counter = 0\n",
    "\n",
    "while rate_versuch != gesuchte_zahl:\n",
    "    \n",
    "    rate_versuch = 0\n",
    "    rate_versuch = int(input(\"Raten Sie die gesuchte Ganzzahl: \"))\n",
    "    \n",
    "    if rate_versuch == 0:\n",
    "        print(\"Abbruch zur Sicherheit des Kernels.\")\n",
    "        break\n",
    "    \n",
    "    if rate_versuch < gesuchte_zahl:\n",
    "        print(\"Zu klein geraten.\")\n",
    "    \n",
    "    if rate_versuch > gesuchte_zahl:\n",
    "        print(\"Zu groß geraten.\")\n",
    "        \n",
    "    counter = counter + 1\n",
    "    \n",
    "print(\"Gratulation, Sie haben die gesuchte Zahl mit\", counter, \"Versuchen erraten!\")\n",
    "```\n",
    "\n",
    "Hinweis: Kommentieren Sie die Zeile `rate_versuch = int(input(....` ein bzw. aus, falls der `input`-Befehl beim Ausführen der Zelle ohne Eingabe stört.\n",
    "\n",
    "a) Kommentieren Sie die Code-Zeilen knapp mit `#`. Was passiert in den einzelnen Zeilen?"
   ]
  },
  {
   "cell_type": "code",
   "execution_count": 39,
   "metadata": {},
   "outputs": [
    {
     "name": "stdout",
     "output_type": "stream",
     "text": [
      "Abbruch zur Sicherheit des Kernels.\n",
      "Gratulation, Sie haben die gesuchte Zahl mit 0 Versuchen erraten!\n"
     ]
    }
   ],
   "source": [
    "# Codezeile Aufgabe\n",
    "\n",
    "# \"global\" definierte Variablen\n",
    "gesuchte_zahl = 1337     # legt die gesuchte, zu erratende Zahl fest\n",
    "rate_versuch = -1        # Initialisierung der Variable rate_versuch \n",
    "#!= 0 und möglichst != gesuchte_zahl\n",
    "counter = 0              # Zähler als 0 initialisiert, da 0 Versuche zu Beginn\n",
    "\n",
    "# Beginn der while-Schleife: \"ist geratener Wert ungleich gesuchter Zahl?\"\n",
    "while rate_versuch != gesuchte_zahl: #  Bedingung für die while-Schleife (Schleifenkopf)\n",
    "# \n",
    "    \n",
    "    rate_versuch = 0                 # auf 0 initialisiert für den Fall, dass nicht gespielt werden soll\n",
    "#     rate_versuch = int(input(prompt=\"Raten Sie die gesuchte Ganzzahl: \")) \n",
    "# Input-Zeile wird mittels input() geöffnet, \n",
    "# zusätzlich wird prompt (Argument der Funktion) angezeigt und \n",
    "# eingegebener String als Integer formatiert\n",
    "    \n",
    "    if rate_versuch == 0:            # # \"wenn rate-Wert 0 ist, dann\"\n",
    "        print(\"Abbruch zur Sicherheit des Kernels.\") # Beschreibung\n",
    "        break               # Abbruch der gesamten Schleife\n",
    "    \n",
    "    if rate_versuch < gesuchte_zahl: # # Test ob kleiner als gesuchte Zahl\n",
    "        print(\"Zu klein geraten.\") # # Hinweis -> zu klein\n",
    "    \n",
    "    if rate_versuch > gesuchte_zahl: # # Test ob größer als gesuchte Zahl\n",
    "        print(\"Zu groß geraten.\") # # Hinweis -> zu groß\n",
    "        \n",
    "    counter = counter + 1 # Zähler um 1 erhöht \n",
    "#     counter += 1\n",
    "    \n",
    "print(\"Gratulation, Sie haben die gesuchte Zahl mit\", counter, \"Versuchen erraten!\") # "
   ]
  },
  {
   "cell_type": "markdown",
   "metadata": {},
   "source": [
    "b) Modifizieren Sie den Code, indem Sie weitere Informationen, Abfragen etc. hinzufügen."
   ]
  },
  {
   "cell_type": "code",
   "execution_count": 40,
   "metadata": {},
   "outputs": [],
   "source": [
    "# Codezeile Aufgabe\n",
    "\n"
   ]
  },
  {
   "cell_type": "markdown",
   "metadata": {},
   "source": [
    "---\n",
    "---\n",
    "### Eigene Funktionen\n",
    "\n",
    "\n",
    "Neben der Nutzung der standartmäßig vorhandenen Funktionen ist es selbstverständlich möglich, eigene Funktionen zu schreiben:\n",
    "\n",
    "* Einleitung durch Schlüsselwort: `def`\n",
    "* Funktionsname\n",
    "* Argumente in Klammern `()`\n",
    "* Rückgabe (nicht immer nötig) durch Schlüsselwort: `return`\n",
    "\n",
    "```python\n",
    "def funktionsname(argument): # Funktionskopf\n",
    "    anweisung # Funktionskörper\n",
    "    return anweisung # Funktionsrückgabe\n",
    "```\n",
    "\n",
    "\n",
    "Funktionen bieten sich an um:<br>\n",
    "* Code allgemeingültiger zu gestalten\n",
    "* Wiederholungen zu vermeiden\n",
    "* komplexere Inhalte zentral zu hinterlegen und einfach abzurufen\n"
   ]
  },
  {
   "cell_type": "markdown",
   "metadata": {},
   "source": [
    "----\n",
    "#### **Aufgabe 12:** \n",
    "\n",
    "a) Schreiben Sie eine Funktion, die einen Container als Argument übernimmt und die Länge des Containers zurückgibt. Dokumentieren und testen Sie Ihre Funktion. \n",
    "\n",
    "Hinweis: Nutzen Sie standartmäßig vorhandene Funktionen in ihrer Funktion und schreiben Sie sie allgemeingültig."
   ]
  },
  {
   "cell_type": "code",
   "execution_count": 41,
   "metadata": {},
   "outputs": [],
   "source": [
    "# Codezeile Aufgabe\n",
    "\n",
    "def container_info(container):\n",
    "    \"\"\"\n",
    "    Gibt Infos zu einem Container aus.\n",
    "    \n",
    "    Parameters:\n",
    "        container [array-like]: \n",
    "        Container zu dem die Infos ausgegeben werden sollen.\n",
    "    Returns:\n",
    "        len(container): Gibt die Länge des Containers zurück.\n",
    "    \"\"\"\n",
    "    return len(container)"
   ]
  },
  {
   "cell_type": "code",
   "execution_count": 42,
   "metadata": {},
   "outputs": [
    {
     "data": {
      "text/plain": [
       "4"
      ]
     },
     "execution_count": 42,
     "metadata": {},
     "output_type": "execute_result"
    }
   ],
   "source": [
    "mein_test_container_01 = [\"a\", 1, 3, 10.0]\n",
    "container_info(mein_test_container_01)"
   ]
  },
  {
   "cell_type": "markdown",
   "metadata": {},
   "source": [
    "b) Erweitern Sie ihre Funktion um ein `print`-Statement, welches die Länge des Containers unabhängig von der Zurückgabe ausgibt."
   ]
  },
  {
   "cell_type": "code",
   "execution_count": 43,
   "metadata": {},
   "outputs": [
    {
     "name": "stdout",
     "output_type": "stream",
     "text": [
      "Länge des Containers: 4\n"
     ]
    },
    {
     "data": {
      "text/plain": [
       "4"
      ]
     },
     "execution_count": 43,
     "metadata": {},
     "output_type": "execute_result"
    }
   ],
   "source": [
    "# Codezeile Aufgabe\n",
    "\n",
    "def container_info(container):\n",
    "    \"\"\"\n",
    "    Gibt Infos zu einem Container aus.\n",
    "    \n",
    "    Parameters:\n",
    "        container [array-like]: \n",
    "        Container zu dem die Infos ausgegeben werden sollen.\n",
    "    Returns:\n",
    "        len(container): Gibt die Länge des Containers zurück.\n",
    "    \"\"\"\n",
    "    print( \"Länge des Containers:\", len(container) ) # Ausgabe der Länge des Containers\n",
    "    return len(container) # Rückgabe der Länge des Containers\n",
    "\n",
    "container_info(mein_test_container_01)"
   ]
  },
  {
   "cell_type": "markdown",
   "metadata": {},
   "source": [
    "c) Erweitern Sie Ihre Funktion so, dass das Resultat aus Aufgabenteil b) nur ausgegeben wird, wenn `info=True` als Argument gesetzt wird.\n",
    "\n",
    "Hinweis: Fügen Sie `info` als Argument in den Funktionskopf hinzu und nutzen Sie Ihr Wissen um Schleifen."
   ]
  },
  {
   "cell_type": "code",
   "execution_count": 44,
   "metadata": {},
   "outputs": [
    {
     "name": "stdout",
     "output_type": "stream",
     "text": [
      "Länge des Containers: 4\n",
      "Länge des Containers: 4\n",
      "Länge des Containers: 4\n",
      "Länge des Containers: 4\n",
      "Länge des Containers: 4\n",
      "Funktionswert (default: info=True) wird überschrieben:\n"
     ]
    },
    {
     "data": {
      "text/plain": [
       "4"
      ]
     },
     "execution_count": 44,
     "metadata": {},
     "output_type": "execute_result"
    }
   ],
   "source": [
    "# Codezeile Aufgabe\n",
    "\n",
    "def container_info(container, info=True):\n",
    "    \"\"\"\n",
    "    Gibt Infos zu einem Container aus.\n",
    "    \n",
    "    Parameters:\n",
    "        container [array-like] (default: True): \n",
    "        Container zu dem die Infos ausgegeben werden sollen.\n",
    "    Returns:\n",
    "        len(container): Gibt die Länge des Containers zurück.\n",
    "    \"\"\"\n",
    "    if info == True:\n",
    "        print( \"Länge des Containers:\", len(container) ) # Ausgabe der Länge des Containers\n",
    "    return len(container) # Rückgabe der Länge des Containers\n",
    "\n",
    "container_info(mein_test_container_01, True) # vollständig positional arguments\n",
    "container_info(mein_test_container_01, info=True) # positional und keyword argument\n",
    "# container_info(container=mein_test_container_01, True) \n",
    "# NUR positional VOR keyword argument möglich\n",
    "container_info(container=mein_test_container_01, info=True)\n",
    "container_info(info=True, container=mein_test_container_01) \n",
    "# keyword arguments in der Reihenfolge tauschbar\n",
    "\n",
    "container_info(container=mein_test_container_01) \n",
    "# info=True als default der Funktion bereits vorhanden, daher kein Fehler\n",
    "print(\"Funktionswert (default: info=True) wird überschrieben:\")\n",
    "container_info(container=mein_test_container_01, info=False) \n",
    "# info=False: default-Wert der Funktion wird überschrieben"
   ]
  },
  {
   "cell_type": "markdown",
   "metadata": {},
   "source": [
    "---\n",
    "---\n",
    "## Ausblick: NumPy - Numerical Python\n",
    "\n",
    "[NumPy Dokumentation](https://numpy.org/ \"externer Link nach numpy.org\")\n",
    "\n",
    "Modul für die meisten mathematischen, numerischen Operationen:\n",
    "\n",
    "* Vektoren\n",
    "* Matrizen (Inverse, Pseudoinverse)\n",
    "* Datenimport / Datenexport\n",
    "* Regression / Fit\n",
    "* uvm.\n",
    "\n",
    "\n",
    "Import:\n",
    "```python\n",
    "import numpy\n",
    "```\n",
    "meistens:\n",
    "```python\n",
    "import numpy as np\n",
    "```\n",
    "\n",
    "**Vorsicht:**\n",
    "Ähnliche Syntax wie Listen `list`, allerdings wesentlich andere Funktionalität.\n",
    "\n",
    "* effizientere Speicherung\n",
    "* zusätzliche Funktionen zur Datenbearbeitung\n",
    "* effiziente Schnittstelle zum Speichern und Bearbeiten dicht gepackter Daten\n",
    "* grundlegendes Werkzeug der *Data Science* mit *Python*\n",
    "\n",
    "\n",
    "*```Funktion(x)``` zum Erstellen und Umformatieren von x in den jeweiligen Datentyp, Beispiel für Formatierung des Datentyps*\n",
    "\n",
    "NumPy n-dimensionaler Array: ```numpy.ndarray```\n",
    "```python\n",
    "numpy.array(), array([[1, 2, 3],\n",
    "                      [4, 5, 6],\n",
    "                      [7, 8, 9]])\n",
    "```"
   ]
  },
  {
   "cell_type": "markdown",
   "metadata": {},
   "source": [
    "----\n",
    "----\n",
    "#### **Zusatzaufgabe für besonders motivierte Teilnehmer*innen:** \n",
    "\n",
    "Schreiben Sie Funktionen für den Eigenbedarf: Formeln, Alltägliches, alles was Sie schon immer mal als Funktion in *Python* festhalten wollten."
   ]
  },
  {
   "cell_type": "code",
   "execution_count": 45,
   "metadata": {},
   "outputs": [],
   "source": [
    "# Codezeile Aufgabe\n",
    "\n"
   ]
  },
  {
   "cell_type": "markdown",
   "metadata": {},
   "source": [
    "----\n",
    "#### **Zusatzaufgabe für besonders motivierte Teilnehmer*innen:** \n",
    "\n",
    "Modifizieren Sie die folgenden Funktionen zur Berechnung der Fakultät mit allen Mitteln, die Sie bisher kennengelernt haben und überlegen Sie, welche der beiden Ausführung ihnen mehr zusagt. Welche bewerten Sie als effizienter, verständlicher, etc.?"
   ]
  },
  {
   "cell_type": "code",
   "execution_count": 46,
   "metadata": {},
   "outputs": [
    {
     "data": {
      "text/plain": [
       "24"
      ]
     },
     "execution_count": 46,
     "metadata": {},
     "output_type": "execute_result"
    }
   ],
   "source": [
    "# Codezeile Aufgabe\n",
    "\n",
    "def faculty1(number):\n",
    "    \"\"\"This function returns the faculty of a number.\"\"\"\n",
    "    res = 1\n",
    "    for x in range(number):\n",
    "        res = res * (x+1)\n",
    "    return res\n",
    "\n",
    "faculty1(4)"
   ]
  },
  {
   "cell_type": "code",
   "execution_count": 47,
   "metadata": {},
   "outputs": [
    {
     "data": {
      "text/plain": [
       "24"
      ]
     },
     "execution_count": 47,
     "metadata": {},
     "output_type": "execute_result"
    }
   ],
   "source": [
    "# Codezeile Aufgabe\n",
    "\n",
    "def faculty2(number):\n",
    "    \"\"\"This function returns the faculty of a number.\"\"\"\n",
    "    if number == 1:\n",
    "        return 1\n",
    "    else:\n",
    "        return number * faculty2(number-1)\n",
    "\n",
    "faculty2(4)"
   ]
  },
  {
   "cell_type": "code",
   "execution_count": 48,
   "metadata": {},
   "outputs": [],
   "source": [
    "# Codezeile zum Testen\n",
    "\n"
   ]
  },
  {
   "cell_type": "markdown",
   "metadata": {},
   "source": [
    "----\n",
    "#### **Zusatzaufgabe für besonders motivierte Teilnehmer*innen:** \n",
    "\n",
    "Schreiben Sie eine Funktion, die eine mit Zahlen gefüllte Liste als Argument entgegennimmt und Sie sortiert. Vermeiden Sie die build-in Funktion ```sorted()```."
   ]
  },
  {
   "cell_type": "code",
   "execution_count": 49,
   "metadata": {},
   "outputs": [],
   "source": [
    "# Codezeile Aufgabe\n",
    "\n"
   ]
  },
  {
   "cell_type": "markdown",
   "metadata": {},
   "source": [
    "Folgenden Referenz-Code wenn nötig aufklappen:"
   ]
  },
  {
   "cell_type": "code",
   "execution_count": 50,
   "metadata": {
    "tags": []
   },
   "outputs": [
    {
     "name": "stdout",
     "output_type": "stream",
     "text": [
      "[0, 1, 3, 4, 5, 7]\n"
     ]
    }
   ],
   "source": [
    "# Referenzcode\n",
    "\n",
    "def sort_list(liste):\n",
    "    \n",
    "    liste_sorted = []\n",
    "    \n",
    "    while len(liste) > 0:\n",
    "        liste_sorted.append(min(liste))\n",
    "        liste.remove(min(liste))\n",
    "        \n",
    "    return liste_sorted\n",
    "\n",
    "print(sort_list([0, 5, 3, 7, 4, 1]))"
   ]
  },
  {
   "cell_type": "code",
   "execution_count": 51,
   "metadata": {
    "tags": []
   },
   "outputs": [
    {
     "name": "stdout",
     "output_type": "stream",
     "text": [
      "[0, 1, 3, 4, 5, 7]\n"
     ]
    }
   ],
   "source": [
    "# Kontrollergebnis\n",
    "\n",
    "print(sorted([0, 5, 3, 7, 4, 1]))"
   ]
  },
  {
   "cell_type": "code",
   "execution_count": null,
   "metadata": {},
   "outputs": [],
   "source": []
  }
 ],
 "metadata": {
  "kernelspec": {
   "display_name": "py3-general [conda env:py3-general]",
   "language": "python",
   "name": "conda-env-py3-general-py"
  },
  "language_info": {
   "codemirror_mode": {
    "name": "ipython",
    "version": 3
   },
   "file_extension": ".py",
   "mimetype": "text/x-python",
   "name": "python",
   "nbconvert_exporter": "python",
   "pygments_lexer": "ipython3",
   "version": "3.7.6"
  }
 },
 "nbformat": 4,
 "nbformat_minor": 4
}
