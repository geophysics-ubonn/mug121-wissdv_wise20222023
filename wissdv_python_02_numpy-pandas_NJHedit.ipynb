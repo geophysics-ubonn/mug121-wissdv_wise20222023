{
 "cells": [
  {
   "cell_type": "markdown",
   "metadata": {},
   "source": [
    "Wintersemester 2022/2023"
   ]
  },
  {
   "cell_type": "markdown",
   "metadata": {},
   "source": [
    "# mug121 - Wissenschaftliche Datenverarbeitung: Python-Einführung – Notebook 2 - Module, NumPy, Pandas und Matplotlib"
   ]
  },
  {
   "cell_type": "markdown",
   "metadata": {},
   "source": [
    "> Niklas Heidemann (heidemann@geo.uni-bonn.de)<br>\n",
    "> Anna Zoporowski (zoporowski@geo.uni-bonn.de)"
   ]
  },
  {
   "cell_type": "markdown",
   "metadata": {},
   "source": [
    "----\n",
    "----\n",
    "## Modularisierung\n",
    "\n",
    "### Globale Module - Import von Bibliotheken\n",
    "\n",
    "```python\n",
    "# Import der gesamten Bibliothek:\n",
    "import bibliothek\n",
    "import bibliothek as kürzel\n",
    "# Import einzelner Funktionen:\n",
    "from bibliothek import funktion\n",
    "from bibliothek import funktion as kürzel\n",
    "```\n",
    "\n",
    "möglichst vermeiden:\n",
    "\n",
    "```from bibliothek import *```\n",
    "\n",
    "* **!! importiert alle Funktionen des Moduls `bibliothek` und überschreibt / konkurriert mit build-in Funktionen !!**\n",
    "\n",
    "### Funktionsaufruf\n",
    "\n",
    "Funktionsaufruf je nach Import mit `bibliothek.funktion()` bzw. `kürzel.funktion()`, `funktion()` oder `kürzel()`"
   ]
  },
  {
   "cell_type": "code",
   "execution_count": 1,
   "metadata": {},
   "outputs": [
    {
     "name": "stdout",
     "output_type": "stream",
     "text": [
      "The Zen of Python, by Tim Peters\n",
      "\n",
      "Beautiful is better than ugly.\n",
      "Explicit is better than implicit.\n",
      "Simple is better than complex.\n",
      "Complex is better than complicated.\n",
      "Flat is better than nested.\n",
      "Sparse is better than dense.\n",
      "Readability counts.\n",
      "Special cases aren't special enough to break the rules.\n",
      "Although practicality beats purity.\n",
      "Errors should never pass silently.\n",
      "Unless explicitly silenced.\n",
      "In the face of ambiguity, refuse the temptation to guess.\n",
      "There should be one-- and preferably only one --obvious way to do it.\n",
      "Although that way may not be obvious at first unless you're Dutch.\n",
      "Now is better than never.\n",
      "Although never is often better than *right* now.\n",
      "If the implementation is hard to explain, it's a bad idea.\n",
      "If the implementation is easy to explain, it may be a good idea.\n",
      "Namespaces are one honking great idea -- let's do more of those!\n"
     ]
    }
   ],
   "source": [
    "# Codezeile zum Testen\n",
    "\n",
    "import this"
   ]
  },
  {
   "cell_type": "markdown",
   "metadata": {},
   "source": [
    "---\n",
    "---\n",
    "\n",
    "## Weiterer Ablauf: \n",
    "\n",
    "\n",
    "* [**NumPy** - Numerical Python](#NumPy---Numerical-Python \"Link zu 'NumPy - Numerical Python'\")\n",
    "* [**Pandas** - Python Data Analysis Library](#Pandas---Python-Data-Analysis-Library \"Link zu Pandas - Python Data Analysis Library'\")\n",
    "* Matplotlib - Plotting Library\n",
    "* [Exkurs: Mathematische Operationen](#Exkurs:-Mathematische-Operationen \"Link zu Exkurs: Mathematische Operationen'\")\n",
    "* Anwendung auf Daten (Import, Export, Prozessierung, Darstellung)\n",
    "\n",
    "\n",
    "* Objektorientiertes Programmieren (Klassen `class`) und eigene Bibliotheken "
   ]
  },
  {
   "cell_type": "markdown",
   "metadata": {},
   "source": [
    "---\n",
    "---\n",
    "## NumPy - Numerical Python\n",
    "\n",
    "[NumPy Dokumentation](https://numpy.org/ \"externer Link nach numpy.org\")\n",
    "\n",
    "Modul für die meisten mathematischen, numerischen Operationen:\n",
    "\n",
    "* Vektoren\n",
    "* Matrizen (Inverse, Pseudoinverse)\n",
    "* Datenimport / Datenexport\n",
    "* Regression / Fit\n",
    "* Generierung von Zufallszahlen\n",
    "* uvm.\n",
    "\n",
    "\n",
    "Import des Moduls:\n",
    "```python\n",
    "import numpy\n",
    "```\n",
    "meistens:\n",
    "```python\n",
    "import numpy as np\n",
    "```\n",
    "\n",
    "**Vorsicht:**\n",
    "Ähnliche Syntax wie Listen `list`, allerdings wesentlich andere Funktionalität.\n",
    "\n",
    "* effizientere Speicherung **und Bearbeitung** (im Unterschied zum build-in `array`-Modul)\n",
    "* feststehender Datentyp (Listen: variabler Datentyp)\n",
    "* zusätzliche Funktionen zur Datenbearbeitung\n",
    "* effiziente Schnittstelle zum Speichern und Bearbeiten dicht gepackter Daten\n",
    "* grundlegendes Werkzeug der *Data Science* mit *Python*\n",
    "\n",
    "Spezielle Anwendung gesucht? Bspw. Import, Export, Determinante, Transponierte, Inversion, etc.\n",
    "\n",
    "```python\n",
    "numpy.lookfor() # Suche nach Funktionen und Methoden mittels Docstrings\n",
    "```\n",
    "\n",
    "\n",
    "*```Funktion(x)``` zum Erstellen und Umformatieren von x in den jeweiligen Datentyp, Beispiel für Formatierung des Datentyps*\n",
    "\n",
    "NumPy n-dimensionaler Array: ```numpy.ndarray```\n",
    "\n",
    "```python\n",
    "numpy.array(), array([[1, 2, 3],\n",
    "                      [4, 5, 6],\n",
    "                      [7, 8, 9]])\n",
    "``` \n",
    "                      \n",
    "\n",
    "\n",
    "\n",
    "### Syntax\n",
    "\n",
    "#### Zusätzliche Operatoren\n",
    "\n",
    "```python\n",
    "@ \n",
    "```\n",
    "\n",
    "* Skalarprodukt: @\n",
    "\n",
    "----"
   ]
  },
  {
   "cell_type": "code",
   "execution_count": 2,
   "metadata": {},
   "outputs": [],
   "source": [
    "# Codezeile zum Testen\n",
    "\n",
    "import numpy as np"
   ]
  },
  {
   "cell_type": "markdown",
   "metadata": {},
   "source": [
    "---\n",
    "#### **Aufgabe 0:**\n",
    "\n",
    "Verschaffen Sie sich mithilfe der bereits bekannten Möglichkeiten einen Überblick über die Möglichkeiten der `numpy`-Bibliothek.\n",
    "\n",
    "Hinweis: `help()`, `?`, `??`, Tastenkombinationen (`Shift + TAB`), `.` für Methoden, `np.lookfor()`"
   ]
  },
  {
   "cell_type": "code",
   "execution_count": 3,
   "metadata": {},
   "outputs": [],
   "source": [
    "# Codezeile Aufgabe\n",
    "# help(np)"
   ]
  },
  {
   "cell_type": "code",
   "execution_count": 4,
   "metadata": {},
   "outputs": [],
   "source": [
    "# np?\n",
    "# np??"
   ]
  },
  {
   "cell_type": "code",
   "execution_count": 5,
   "metadata": {},
   "outputs": [],
   "source": [
    "# np."
   ]
  },
  {
   "cell_type": "code",
   "execution_count": 6,
   "metadata": {},
   "outputs": [],
   "source": [
    "# np.lookfor(\"scalar product\")"
   ]
  },
  {
   "cell_type": "markdown",
   "metadata": {},
   "source": [
    "----\n",
    "----\n",
    "### Erstellen von NumPy-ndarrays\n",
    "\n",
    "#### aus Listen\n",
    "\n",
    "```python\n",
    "np.array([1, 2, 3, 4]) # mit Integers\n",
    "np.array([0.11, 2.2, 33, 440]) # mit Floats\n",
    "liste = [1, 2, \"xyz\"] # aus Variablen\n",
    "np.array(liste)\n",
    "np.array([1, 2]) # 2x1 Vektor\n",
    "np.array([[1], \n",
    "          [2], \n",
    "          [3]]) # 1x3 Vektor\n",
    "np.array([[1, 2, 3], \n",
    "          [4, 5, 6],\n",
    "          [7, 8, 9]]) # 3x3 Matrix\n",
    "\n",
    "np.array([1, 2, 3, 4], dtype='float32') # Angabe eines Datentyps\n",
    "```\n",
    "\n",
    "#### mit NumPy-Funktionen\n",
    "\n",
    "```python\n",
    "np.zeros(10, dtype=int) # mit Nullen gefüllter Vektor der Länge 10, Datentyp int\n",
    "np.ones((3, 2), dtype=float) # mit Einsen gefüllte 3x2 Matrix, Datentyp float64\n",
    "np.full((10, 10), 25) # mit dem Wert 25 gefüllte 10x10 Matrix\n",
    "\n",
    "np.arange(0, 10, 0.5) # Vektor mit linearer Sequenz von 0 bis 10, Schrittweite 0.5 (entspricht der built-in range-Funktion)\n",
    "np.linspace(0, 10, 4) # Vektor mit linearer Sequenz von vier Einträgen zwischen 0 und 10, konstante Differenz\n",
    "\n",
    "np.random.random((3, 3)) # 3x3 Matrix gleichmäßig verteilter Zufallszahlen zwischen 0 und 1\n",
    "np.random.normal(0, 1, (3, 3)) # 3x3 Matrix normalverteilter Zufallszahlen mit Mittelwert 0 und Standardabweichung 1\n",
    "np.random.randint(0, 10, (3, 3)) # 3x3 Matrix mit zufälligen Ganzzahlen zwischen 0 und 10\n",
    "\n",
    "np.eye(3) # 3x3 Einheitsmatrix (Einsen auf der Hauptdiagonalen)\n",
    "np.empty((3, 3)) # Nicht initialisierte 3x3 Matrix erzeugen, Werte werden aus reservierten Speicherpositionen genommen.\n",
    "```\n",
    "----"
   ]
  },
  {
   "cell_type": "code",
   "execution_count": 7,
   "metadata": {},
   "outputs": [],
   "source": [
    "# Codezeile zum Testen\n",
    "\n",
    "# np.empty()"
   ]
  },
  {
   "cell_type": "markdown",
   "metadata": {},
   "source": [
    "---\n",
    "#### **Aufgabe 1:**\n",
    "\n",
    "Erstellen Sie jeweils eine Liste (Variablennamen `liste`) und einen NumPy-Vektor (Variablennamen `vektor`) mit den drei Einträgen `[1, 2, 3]`. Führen Sie die folgenden Operationen aus:\n",
    "\n",
    "a) `liste` $\\pm$ `liste`<br>\n",
    "b) `vektor` $\\pm$ `vektor`<br>\n",
    "c) `liste` $\\pm$ `vektor`<br>\n",
    "d) `liste` $\\cdot$ `liste`<br>\n",
    "e) `vektor` $\\cdot$ `vektor`<br>\n",
    "f) `liste` $\\cdot$ `vektor`\n",
    "\n",
    "Was geht, was geht nicht?"
   ]
  },
  {
   "cell_type": "code",
   "execution_count": 8,
   "metadata": {},
   "outputs": [
    {
     "name": "stdout",
     "output_type": "stream",
     "text": [
      "[1, 2, 3] <class 'list'>\n",
      "[1 2 3] <class 'numpy.ndarray'>\n"
     ]
    }
   ],
   "source": [
    "# Codezeile Aufgabe\n",
    "\n",
    "liste = [1, 2, 3]\n",
    "vektor = np.array(liste)\n",
    "\n",
    "print(liste, type(liste))\n",
    "print(vektor, type(vektor))"
   ]
  },
  {
   "cell_type": "code",
   "execution_count": 9,
   "metadata": {},
   "outputs": [
    {
     "name": "stdout",
     "output_type": "stream",
     "text": [
      "a):\n",
      " [1, 2, 3, 1, 2, 3] \n",
      " liste - liste geht nicht\n",
      "b):\n",
      " [2 4 6] \n",
      " [0 0 0]\n",
      "c):\n",
      " [2 4 6] \n",
      " [0 0 0]\n",
      "c) umgekehrt:\n",
      " [2 4 6] \n",
      " [0 0 0]\n",
      "d):\n",
      " liste * liste geht nicht\n",
      "e):\n",
      " [1 4 9]\n",
      "f):\n",
      " [1 4 9]\n",
      "f) umgekehrt:\n",
      " [1 4 9]\n"
     ]
    }
   ],
   "source": [
    "print(\"a):\\n\", liste + liste, \"\\n\", \"liste - liste geht nicht\")\n",
    "print(\"b):\\n\", vektor + vektor, \"\\n\", vektor - vektor)\n",
    "print(\"c):\\n\", liste + vektor, \"\\n\", liste - vektor)\n",
    "print(\"c) umgekehrt:\\n\", vektor + liste, \"\\n\", vektor - liste)\n",
    "print(\"d):\\n\", \"liste * liste geht nicht\")\n",
    "print(\"e):\\n\", vektor * vektor)\n",
    "print(\"f):\\n\", liste * vektor)\n",
    "print(\"f) umgekehrt:\\n\", vektor * liste)"
   ]
  },
  {
   "cell_type": "markdown",
   "metadata": {},
   "source": [
    "----\n",
    "### Indizierung von NumPy-ndarrays:\n",
    "\n",
    "> #### Die Null-Indizierung:\n",
    "> Python beginnt beim Zählen (Indizieren von Objekten, etc.) bei 0. <br>\n",
    "\n",
    "* Beginn von links bei `0`\n",
    "* Beginn von rechts bei `-1`\n",
    "* Elemente: `[von:bis:Schrittweite]`\n",
    "* **n-Dimensionen:** [start:stop:step, start:stop:step, start:stop:step, etc] \n",
    "\n",
    "Beispiel:<br>\n",
    "Das erste Element einer Liste `liste = [1, 2, 3]` ist die `1`, wird jedoch in Python als Element `0` angesprochen.\n",
    "\n",
    "```python\n",
    "array = np.array([[1, 2, 3], \n",
    "                  [4, 5, 6],\n",
    "                  [7, 8, 9]])\n",
    "array[0] # gibt das erste Element aus (erste Zeile)\n",
    "array[-1] # gibt das letzte Element aus (letzte Zeile)\n",
    "array[1:2] # gibt das zweite bis ausschließlich dritte Element aus\n",
    "array[1:3] # gibt das zweite bis einschließlich dritte Element aus\n",
    "array[::2] # beginnt beim ersten Element (0) und gibt jedes zweite aus\n",
    "array[1:3, ::2] # mehrdimensional: gibt das zweite bis einschließlich dritte Element der ersten Dimension aus \n",
    "# und von diesen jeweils jedes zweite Element\n",
    "\n",
    "array[:, 0] # Ausgabe der ersten Spalte\n",
    "array[:, -1] # Ausgabe der letzten Spalte\n",
    "```\n",
    "\n",
    "#### Überschreiben von Einträgen:\n",
    "\n",
    "```python\n",
    "array[0] = [-1, -2, -3] # überschreibe die erste Zeile mit einer Liste neuer Einträge\n",
    "array[-1, -1] = -9 # überschreibe das Element unten rechts mit -9\n",
    "```\n",
    "\n",
    "#### Anhängen von Einträgen:\n",
    "\n",
    "Eigene `numpy`-Funktion `np.append()`:\n",
    "\n",
    "```python\n",
    "new_array = np.append(array, [4, 5, 6]) # anhängen einer Liste an einen numpy.ndarray mittels .append()\n",
    "```\n",
    "\n",
    "> #### Dimensionen eines numpy.ndarrays ausgeben lassen:\n",
    "> Mithilfe der Funktion \n",
    ">```python\n",
    ">array.shape # Größe der jeweiligen Dimensionen\n",
    ">```\n",
    "> <br>\n",
    "> lassen sich Dimension (Komma-getrennt) und die Anzahl der Einträge abfragen.<br>\n",
    "> Auch hier indiziert Python intern bei Null beginnend, allerdings wird die tatsächliche Anzahl der Elemente angegeben und nicht der Zähler des letzten Elements.<br>\n",
    "> <br>\n",
    "> Andere wichtige Attribute:\n",
    ">\n",
    ">```python\n",
    ">array.ndim # Anzahl der Dimensionen\n",
    ">array.size # Gesamtgröße\n",
    ">array.dtype # Datentyp\n",
    ">array.itemsize # Größe der Elemente des Arrays in Bytes\n",
    ">array.nbytes # Größe des gesamten Arrays in Bytes\n",
    ">```\n",
    "> <br>\n",
    "\n",
    "![arrays](https://cdn-images-1.medium.com/max/1200/1*O2_46c16UdgmXzen4VktMg.png)\n",
    "\n",
    "----"
   ]
  },
  {
   "cell_type": "markdown",
   "metadata": {},
   "source": [
    "### Überblick: hilfreiche Funktionen\n",
    "\n",
    "\n",
    "|Name      |   NaN-safe Version  | Beschreibung                                   |\n",
    "|-------------------|---------------------|-----------------------------------------------|\n",
    "| ``np.sum``        | ``np.nansum``       | Compute sum of elements                       |\n",
    "| ``np.cumsum``        | ``np.nancumsum``       | Compute the comulative sum of elements                       |\n",
    "| ``np.prod``       | ``np.nanprod``      | Compute product of elements                   |\n",
    "| ``np.mean``       | ``np.nanmean``      | Compute mean of elements                      |\n",
    "| ``np.std``        | ``np.nanstd``       | Compute standard deviation                    |\n",
    "| ``np.var``        | ``np.nanvar``       | Compute variance                              |\n",
    "| ``np.min``        | ``np.nanmin``       | Find minimum value                            |\n",
    "| ``np.max``        | ``np.nanmax``       | Find maximum value                            |\n",
    "| ``np.argmin``     | ``np.nanargmin``    | Find index of minimum value                   |\n",
    "| ``np.argmax``     | ``np.nanargmax``    | Find index of maximum value                   |\n",
    "| ``np.median``     | ``np.nanmedian``    | Compute median of elements                    |\n",
    "| ``np.percentile`` | ``np.nanpercentile``| Compute rank-based statistics of elements     |\n",
    "| ``np.any``        | N/A                 | Evaluate whether any elements are true        |\n",
    "| ``np.all``        | N/A                 | Evaluate whether all elements are true        |\n",
    "| --        | --                 | --        |\n",
    "| ``np.sin``        | N/A                 | Compute sine-function (Sinus)       |\n",
    "| ``np.cos``        | N/A                 | Compute cosine-function (Kosinus)        |\n",
    "| ``np.tan``        | N/A                 | Compute tangent-function (Tangens)        |\n",
    "| ``np.arcsin``        | N/A                 | Compute arcsine-function (Arcussinus)        |\n",
    "| ``np.arccos``        | N/A                 | Compute arccosine-function (Arcuskosinus)        |\n",
    "| ``np.arctan``        | N/A                 | Compute arctangent-function (Arcustangens)        |\n",
    "| ``np.exp``        | N/A                 | Compute the exponential function (Exponentialfunktion)       |\n",
    "| ``np.exp2``        | N/A                 | Compute the squared function (Quadrat)       |\n",
    "| ``np.power``        | N/A                 | Compute a power function (Exponent)        |\n",
    "| ``np.abs`` / ``np.absolute``       | N/A                 | Compute the absolute value (Absolutwert/Betrag)        |\n",
    "| ``np.log``        | N/A                 | Compute the natural logarithm (natürlicher Logarithmus)       |\n",
    "| ``np.log2``        | N/A                 | Compute the logarithm to base 2 (Logarithmus zur Basis 2)        |\n",
    "| ``np.log10``        | N/A                 | Compute the logarithm to base 10 (Logarithmus zur Basis 10)        |\n",
    "| ``np.sqrt``        | N/A                 | Compute the square root (Quadratwurzel)      |\n",
    "\n",
    "\n",
    "\n",
    "jeweils auch als Methode, bspw.: `array.mean`"
   ]
  },
  {
   "cell_type": "code",
   "execution_count": 10,
   "metadata": {},
   "outputs": [
    {
     "name": "stdout",
     "output_type": "stream",
     "text": [
      "[1 2 3]\n",
      "[7 8 9]\n",
      "[[4 5 6]]\n",
      "[[4 5 6]\n",
      " [7 8 9]]\n",
      "[[1 2 3]\n",
      " [7 8 9]]\n",
      "[[4 6]\n",
      " [7 9]]\n"
     ]
    }
   ],
   "source": [
    "# Codezeile zum Testen\n",
    "\n",
    "array = np.array([[1, 2, 3], \n",
    "                  [4, 5, 6],\n",
    "                  [7, 8, 9]])\n",
    "print(array[0]) # gibt das erste Element aus\n",
    "print(array[-1]) # gibt das letzte Element aus\n",
    "print(array[1:2]) # gibt das zweite bis ausschließlich dritte Element aus\n",
    "print(array[1:3]) # gibt das zweite bis einschließlich dritte Element aus\n",
    "print(array[::2]) # beginnt beim ersten Element (0) und gibt jedes zweite aus\n",
    "print(array[1:3, ::2]) # gibt das zweite bis einschließlich dritte Element der ersten Dimension aus \n",
    "# und von diesen jeweils jedes zweite Element"
   ]
  },
  {
   "cell_type": "code",
   "execution_count": 11,
   "metadata": {},
   "outputs": [
    {
     "data": {
      "text/plain": [
       "(3, 3)"
      ]
     },
     "execution_count": 11,
     "metadata": {},
     "output_type": "execute_result"
    }
   ],
   "source": [
    "array.shape"
   ]
  },
  {
   "cell_type": "code",
   "execution_count": 12,
   "metadata": {},
   "outputs": [],
   "source": [
    "# np.append()"
   ]
  },
  {
   "cell_type": "code",
   "execution_count": 13,
   "metadata": {},
   "outputs": [
    {
     "data": {
      "text/plain": [
       "8"
      ]
     },
     "execution_count": 13,
     "metadata": {},
     "output_type": "execute_result"
    }
   ],
   "source": [
    "array.itemsize"
   ]
  },
  {
   "cell_type": "code",
   "execution_count": 14,
   "metadata": {},
   "outputs": [],
   "source": [
    "# np.nanmean(array)"
   ]
  },
  {
   "cell_type": "markdown",
   "metadata": {},
   "source": [
    "---\n",
    "#### **Aufgabe 2:** "
   ]
  },
  {
   "cell_type": "code",
   "execution_count": 15,
   "metadata": {},
   "outputs": [],
   "source": [
    "# Do Not Touch - Start\n",
    "import numpy as np\n",
    "array = np.array([[1, 2, 3], \n",
    "                  [4, 5, 6],\n",
    "                  [7, 8, 9]])\n",
    "# Do Not Touch - Ende"
   ]
  },
  {
   "cell_type": "markdown",
   "metadata": {},
   "source": [
    "a) Lassen Sie sich den ersten und den letzten Eintrag der Hauptdiagonale der Matrix `array` ausgeben."
   ]
  },
  {
   "cell_type": "code",
   "execution_count": 16,
   "metadata": {},
   "outputs": [
    {
     "name": "stdout",
     "output_type": "stream",
     "text": [
      "1 9\n",
      "1 9\n"
     ]
    }
   ],
   "source": [
    "# Codezeile Aufgabe\n",
    "\n",
    "print(array[0, 0], array[2, 2])\n",
    "print(array.diagonal()[0], array.diagonal()[-1])"
   ]
  },
  {
   "cell_type": "markdown",
   "metadata": {},
   "source": [
    "b) Nutzen Sie jeweils die Funktion `np.diagonal` und die Methode `.diagonal`, um sich die gesamte Hauptdiagonale der Matrix `array` ausgeben zu lassen."
   ]
  },
  {
   "cell_type": "code",
   "execution_count": 17,
   "metadata": {},
   "outputs": [
    {
     "name": "stdout",
     "output_type": "stream",
     "text": [
      "[1 5 9]\n",
      "[1 5 9]\n"
     ]
    }
   ],
   "source": [
    "# Codezeile Aufgabe\n",
    "\n",
    "print(np.diagonal(array))\n",
    "print(array.diagonal())"
   ]
  },
  {
   "cell_type": "markdown",
   "metadata": {},
   "source": [
    "c) Berechnen Sie den arithmetischen Mittelwert (`mean`), die Standardabweichung (`std`), sowie den kleinsten (`min`) und den größten (`max`) Wert der Matrix `array`."
   ]
  },
  {
   "cell_type": "code",
   "execution_count": 18,
   "metadata": {},
   "outputs": [
    {
     "name": "stdout",
     "output_type": "stream",
     "text": [
      "5.0\n",
      "2.581988897471611\n",
      "1\n",
      "9\n"
     ]
    }
   ],
   "source": [
    "# Codezeile Aufgabe\n",
    "\n",
    "print(array.mean())\n",
    "print(array.std())\n",
    "print(array.min())\n",
    "print(array.max())"
   ]
  },
  {
   "cell_type": "markdown",
   "metadata": {},
   "source": [
    "d) Transponieren Sie die Matrix `array` und berechnen Sie anschließend die Determinante der Transponierten.\n",
    "\n",
    "Hinweis: `np.lookfor`"
   ]
  },
  {
   "cell_type": "code",
   "execution_count": 19,
   "metadata": {},
   "outputs": [
    {
     "name": "stdout",
     "output_type": "stream",
     "text": [
      "Original:\n",
      " [[1 2 3]\n",
      " [4 5 6]\n",
      " [7 8 9]]\n",
      "Transponierte:\n",
      "[[1 4 7]\n",
      " [2 5 8]\n",
      " [3 6 9]]\n",
      "[[1 4 7]\n",
      " [2 5 8]\n",
      " [3 6 9]]\n",
      "[[1 4 7]\n",
      " [2 5 8]\n",
      " [3 6 9]]\n",
      "Determinante der Transponierten:\n",
      "0.0\n"
     ]
    }
   ],
   "source": [
    "# Codezeile Aufgabe\n",
    "\n",
    "# np.lookfor(\"determinant\")\n",
    "# np.lookfor(\"transpose\")\n",
    "print(\"Original:\\n\", array)\n",
    "print(\"Transponierte:\")\n",
    "print(np.transpose(array))\n",
    "print(array.transpose())\n",
    "print(array.T)\n",
    "print(\"Determinante der Transponierten:\")\n",
    "print(np.linalg.det(array.T))"
   ]
  },
  {
   "cell_type": "markdown",
   "metadata": {},
   "source": [
    "e) Geben Sie jede Spalte der Matrix `array` einzeln aus. Berechnen Sie die jeweils die Summe der ersten und letzten Spalte."
   ]
  },
  {
   "cell_type": "code",
   "execution_count": 20,
   "metadata": {},
   "outputs": [
    {
     "name": "stdout",
     "output_type": "stream",
     "text": [
      "[[1 2 3]\n",
      " [4 5 6]\n",
      " [7 8 9]]\n",
      "[1 4 7]\n",
      "[2 5 8]\n",
      "[3 6 9]\n",
      "[1 4 7]\n",
      "[2 5 8]\n",
      "[3 6 9]\n",
      "Zeilen gäbe es bspw. so:\n",
      "[1 2 3]\n",
      "[4 5 6]\n",
      "[7 8 9]\n"
     ]
    }
   ],
   "source": [
    "# Codezeile Aufgabe\n",
    "print(array)\n",
    "\n",
    "print(array[::, 0])\n",
    "print(array[::, 1])\n",
    "print(array[::, 2])\n",
    "\n",
    "for i in range(len(array)):\n",
    "    print(array[::,i])\n",
    "len(array)\n",
    "\n",
    "print(\"Zeilen gäbe es bspw. so:\")\n",
    "for i in array[:,: ]:\n",
    "    print(i)"
   ]
  },
  {
   "cell_type": "code",
   "execution_count": 21,
   "metadata": {},
   "outputs": [
    {
     "name": "stdout",
     "output_type": "stream",
     "text": [
      "[[1. 1. 1.]\n",
      " [1. 1. 1.]\n",
      " [1. 1. 1.]\n",
      " [1. 1. 1.]\n",
      " [1. 1. 1.]\n",
      " [1. 1. 1.]\n",
      " [1. 1. 1.]\n",
      " [1. 1. 1.]\n",
      " [1. 1. 1.]\n",
      " [1. 1. 1.]]\n",
      "[[1. 1. 2.]\n",
      " [1. 1. 2.]\n",
      " [1. 1. 2.]\n",
      " [1. 1. 2.]\n",
      " [1. 1. 2.]\n",
      " [1. 1. 2.]\n",
      " [1. 1. 2.]\n",
      " [1. 1. 2.]\n",
      " [1. 1. 2.]\n",
      " [1. 1. 2.]]\n",
      "[2. 2. 2. 2. 2. 2. 2. 2. 2. 2.]\n",
      "[[1. 2. 2.]\n",
      " [1. 2. 2.]\n",
      " [1. 2. 2.]\n",
      " [1. 2. 2.]\n",
      " [1. 2. 2.]\n",
      " [1. 2. 2.]\n",
      " [1. 2. 2.]\n",
      " [1. 2. 2.]\n",
      " [1. 2. 2.]\n",
      " [1. 2. 2.]]\n"
     ]
    }
   ],
   "source": [
    "test = np.ones((10, 3))\n",
    "print(test)\n",
    "test[:, 2] = 2\n",
    "print(test)\n",
    "test[:, 1] = test[:, 2]\n",
    "print(test[:, 2])\n",
    "print(test)"
   ]
  },
  {
   "cell_type": "code",
   "execution_count": 22,
   "metadata": {},
   "outputs": [
    {
     "name": "stdout",
     "output_type": "stream",
     "text": [
      "[[1. 2. 2.]\n",
      " [1. 2. 2.]\n",
      " [1. 2. 2.]\n",
      " [1. 2. 2.]\n",
      " [1. 2. 2.]\n",
      " [1. 2. 2.]\n",
      " [1. 2. 2.]\n",
      " [1. 2. 2.]\n",
      " [1. 2. 2.]\n",
      " [1. 2. 2.]]\n"
     ]
    }
   ],
   "source": [
    "test2 = test.copy()\n",
    "print(test2)"
   ]
  },
  {
   "cell_type": "markdown",
   "metadata": {},
   "source": [
    "----\n",
    "----\n",
    "### Bearbeiten von Dimensionen\n",
    "\n",
    "Die Dimensionen von Arrays können umgeformt werden:\n",
    "\n",
    "```python\n",
    "np.array([1, 2, 3]).reshape((1, 3))  # Spaltenvektor in Zeilenvektor\n",
    "np.array([[1, 2, 3]]).reshape((3, 1))  # Zeilenvektor in Spaltenvektor\n",
    "```\n",
    "\n",
    "> Wichtig beim Bearbeiten:\n",
    ">\n",
    "> Mithilfe von `array.copy()` lassen sich *Kopien* eines Arrays erstellen, die unabhängig von dem *View* eines NumPy-Arrays bearbeitet werden können.\n",
    "\n",
    "### Verketten und aufteilen\n",
    "\n",
    "Arrays lassen sich mithilfe von `np.concatenate`, `np.vstack` (vertikaler Stack), `np.hstack` (horizontaler Stack) und `np.dstack` (dimensional Stack in der dritten Dimension) verketten.\n",
    "\n",
    "\n",
    "Aufteilen von Arrays ist mit `np.split`, `np.hsplit` (aufteilen in horizontaler Ebene), `np.vsplit` (aufteilen in vertikaler Ebene) und `np.dsplit` (aufteilen in der dritten Dimension) möglich."
   ]
  },
  {
   "cell_type": "markdown",
   "metadata": {},
   "source": [
    "----\n",
    "----\n",
    "\n",
    "### Broadcasting und Rechnen mit Skalaren, Vektoren und Matrizen\n",
    "\n",
    "#### Broadcasting:<br>\n",
    "\n",
    "Mithilfe des Broadcastings ermöglicht NumPy es, eine (mathematische) Operation auf alle Einträge eines Arrays anzuwenden. Dies funktioniert, indem NumPy intern für die Operation einen Array erstellt, der die gleiche Dimension hat wie der Array, auf den die Operation angewendet werden soll:\n",
    "\n",
    "![broadcasting](https://jakevdp.github.io/PythonDataScienceHandbook/figures/02.05-broadcasting.png)"
   ]
  },
  {
   "cell_type": "code",
   "execution_count": 23,
   "metadata": {},
   "outputs": [
    {
     "name": "stdout",
     "output_type": "stream",
     "text": [
      "1 x 2 Vektor: \n",
      "[1 2]\n",
      "3 x 1 Vektor: \n",
      "[[1]\n",
      " [2]\n",
      " [3]]\n",
      "3 x 3 Matrix: \n",
      "[[1 2 3]\n",
      " [4 5 6]\n",
      " [7 8 9]]\n"
     ]
    }
   ],
   "source": [
    "# Codezeile zum Testen\n",
    "\n",
    "vector_2_1 = np.array([1, 2]) # 1x2 Vektor\n",
    "vector_1_3 = np.array([[1], \n",
    "                       [2], \n",
    "                       [3]]) # 3x1 Vektor\n",
    "matrix_3_3 = np.array([[1, 2, 3], \n",
    "                       [4, 5, 6],\n",
    "                       [7, 8, 9]]) # 3x3 Matrix\n",
    "\n",
    "print(\"1 x 2 Vektor: \\n{}\".format(vector_2_1))\n",
    "print(\"3 x 1 Vektor: \\n{}\".format(vector_1_3))\n",
    "print(\"3 x 3 Matrix: \\n{}\".format(matrix_3_3))"
   ]
  },
  {
   "cell_type": "code",
   "execution_count": 24,
   "metadata": {},
   "outputs": [
    {
     "name": "stdout",
     "output_type": "stream",
     "text": [
      "Broadcasting mit Skalar\n",
      "\n",
      "[[11 12 13]\n",
      " [14 15 16]\n",
      " [17 18 19]]\n",
      "[[-9 -8 -7]\n",
      " [-6 -5 -4]\n",
      " [-3 -2 -1]]\n",
      "[[10 20 30]\n",
      " [40 50 60]\n",
      " [70 80 90]]\n",
      "[[0.1 0.2 0.3]\n",
      " [0.4 0.5 0.6]\n",
      " [0.7 0.8 0.9]]\n"
     ]
    }
   ],
   "source": [
    "print(\"Broadcasting mit Skalar\\n\")\n",
    "\n",
    "print( matrix_3_3 + 10 )\n",
    "print( matrix_3_3 - 10 )\n",
    "print( matrix_3_3 * 10 )\n",
    "print( matrix_3_3 / 10 )"
   ]
  },
  {
   "cell_type": "code",
   "execution_count": 25,
   "metadata": {},
   "outputs": [
    {
     "name": "stdout",
     "output_type": "stream",
     "text": [
      "\n",
      "Addition\n",
      "\n",
      "[[ 2  4  6]\n",
      " [ 8 10 12]\n",
      " [14 16 18]]\n",
      "[[ 2  4  6]\n",
      " [ 5  7  9]\n",
      " [ 8 10 12]]\n",
      "[2 4 6]\n",
      "[[2 3 4]\n",
      " [3 4 5]\n",
      " [4 5 6]]\n"
     ]
    }
   ],
   "source": [
    "print(\"\\nAddition\\n\")\n",
    "\n",
    "print( matrix_3_3 + matrix_3_3 )\n",
    "print( matrix_3_3 + np.array([1, 2, 3]) )\n",
    "print( np.array([1, 2, 3]) + np.array([1, 2, 3]) )\n",
    "print( np.array([[1], [2], [3]]) + np.array([1, 2, 3]) )"
   ]
  },
  {
   "cell_type": "code",
   "execution_count": 26,
   "metadata": {},
   "outputs": [
    {
     "name": "stdout",
     "output_type": "stream",
     "text": [
      "\n",
      "Subtraktion\n",
      "\n",
      "[[0 0 0]\n",
      " [0 0 0]\n",
      " [0 0 0]]\n",
      "[[0 0 0]\n",
      " [3 3 3]\n",
      " [6 6 6]]\n",
      "[0 0 0]\n",
      "[[ 0 -1 -2]\n",
      " [ 1  0 -1]\n",
      " [ 2  1  0]]\n"
     ]
    }
   ],
   "source": [
    "print(\"\\nSubtraktion\\n\")\n",
    "\n",
    "print( matrix_3_3 - matrix_3_3 )\n",
    "print( matrix_3_3 - np.array([1, 2, 3]) )\n",
    "print( np.array([1, 2, 3]) - np.array([1, 2, 3]) )\n",
    "print( np.array([[1], [2], [3]]) - np.array([1, 2, 3]) )"
   ]
  },
  {
   "cell_type": "code",
   "execution_count": 27,
   "metadata": {},
   "outputs": [
    {
     "name": "stdout",
     "output_type": "stream",
     "text": [
      "\n",
      "Multiplikation\n",
      "\n",
      "[[ 1  4  9]\n",
      " [16 25 36]\n",
      " [49 64 81]]\n",
      "[[ 1  4  9]\n",
      " [ 4 10 18]\n",
      " [ 7 16 27]]\n",
      "[1 4 9]\n",
      "[[1 2 3]\n",
      " [2 4 6]\n",
      " [3 6 9]]\n"
     ]
    }
   ],
   "source": [
    "print(\"\\nMultiplikation\\n\")\n",
    "\n",
    "print( matrix_3_3 * matrix_3_3 )\n",
    "print( matrix_3_3 * np.array([1, 2, 3]) )\n",
    "print( np.array([1, 2, 3]) * np.array([1, 2, 3]) )\n",
    "print( np.array([[1], [2], [3]]) * np.array([1, 2, 3]) )"
   ]
  },
  {
   "cell_type": "code",
   "execution_count": 28,
   "metadata": {},
   "outputs": [
    {
     "name": "stdout",
     "output_type": "stream",
     "text": [
      "Original:\n",
      " [[1 2 3]\n",
      " [4 5 6]\n",
      " [7 8 9]]\n",
      "\n",
      "Skalarprodukt\n",
      "\n",
      "[[ 30  36  42]\n",
      " [ 66  81  96]\n",
      " [102 126 150]]\n",
      "[14 32 50]\n",
      "14\n",
      "[14]\n"
     ]
    }
   ],
   "source": [
    "\n",
    "print(\"Original:\\n\", matrix_3_3)\n",
    "\n",
    "print(\"\\nSkalarprodukt\\n\")\n",
    "print( matrix_3_3 @ matrix_3_3 )\n",
    "print( matrix_3_3 @ np.array([1, 2, 3]) )\n",
    "print( np.array([1, 2, 3]) @ np.array([1, 2, 3]) )\n",
    "print( np.array([1, 2, 3]) @ np.array([[1], [2], [3]]) )"
   ]
  },
  {
   "cell_type": "code",
   "execution_count": 29,
   "metadata": {},
   "outputs": [
    {
     "name": "stdout",
     "output_type": "stream",
     "text": [
      "\n",
      "Division\n",
      "\n",
      "[[1. 1. 1.]\n",
      " [1. 1. 1.]\n",
      " [1. 1. 1.]]\n",
      "[[1.  1.  1. ]\n",
      " [4.  2.5 2. ]\n",
      " [7.  4.  3. ]]\n",
      "[1. 1. 1.]\n",
      "[[1.         0.5        0.33333333]\n",
      " [2.         1.         0.66666667]\n",
      " [3.         1.5        1.        ]]\n"
     ]
    }
   ],
   "source": [
    "print(\"\\nDivision\\n\")\n",
    "\n",
    "print( matrix_3_3 / matrix_3_3 )\n",
    "print( matrix_3_3 / np.array([1, 2, 3]) )\n",
    "print( np.array([1, 2, 3]) / np.array([1, 2, 3]) )\n",
    "print( np.array([[1], [2], [3]]) / np.array([1, 2, 3]) )"
   ]
  },
  {
   "cell_type": "code",
   "execution_count": 30,
   "metadata": {},
   "outputs": [
    {
     "data": {
      "text/plain": [
       "<matplotlib.colorbar.Colorbar at 0x7fb53594f310>"
      ]
     },
     "execution_count": 30,
     "metadata": {},
     "output_type": "execute_result"
    },
    {
     "data": {
      "image/png": "[encoded data removed]",
      "text/plain": [
       "<Figure size 432x288 with 2 Axes>"
      ]
     },
     "metadata": {
      "needs_background": "light"
     },
     "output_type": "display_data"
    }
   ],
   "source": [
    "# Codezeile zum Testen\n",
    "\n",
    "import matplotlib.pyplot as plt\n",
    "colormap = plt.imshow(np.eye(10))\n",
    "plt.colorbar(colormap)"
   ]
  },
  {
   "cell_type": "markdown",
   "metadata": {},
   "source": [
    "-----\n",
    "-----\n",
    "\n",
    "## Pandas - Python Data Analysis Library\n",
    "\n",
    "[Pandas Dokumentation](https://pandas.pydata.org/ \"externer Link nach pandas.pydata.org/\")\n",
    "\n",
    "[pandas in pypi](https://pypi.org/project/pandas/)\n",
    "\n",
    "[pandas in python-kurs.eu](https://www.python-kurs.eu/pandas.php)\n",
    "\n",
    "Modul für alles, was mit Datensätzen zu tun hat:\n",
    "\n",
    "* Datenserien `Series`, \"Datenrahmen\" `DataFrame`\n",
    "* Matrizen\n",
    "* Pixelmatrizen: Abbildungen / Bildbearbeitung\n",
    "* Datenimport / Datenexport\n",
    "* Regression / Fit\n",
    "* Statistik\n",
    "* Zeitreihen\n",
    "* etc.\n",
    "\n",
    "\n",
    "Import des Moduls:\n",
    "```python\n",
    "import pandas\n",
    "```\n",
    "meistens:\n",
    "```python\n",
    "import pandas as pd\n",
    "```\n",
    "\n",
    "**Vorsicht:**\n",
    "Teilweise ähnliche Syntax wie Arrays in NumPy, allerdings deutlich erweiterte Funktionalität.\n",
    "\n",
    "* effizientere Speicherung\n",
    "* feststehender Datentyp\n",
    "* zusätzliche Funktionen zur Datenbearbeitung\n",
    "* effiziente Schnittstelle zum Speichern und Bearbeiten dicht gepackter, strukturierter Daten\n",
    "* grundlegendes Werkzeug der *Data Science* mit *Python*\n",
    "\n",
    "Spezielle Anwendung gesucht? Bspw. Import, Export, Determinante, Transponierte, Inversion, etc.\n",
    "\n",
    "```python\n",
    "pandas? # Suche nach Funktionen und Methoden mittels Docstrings\n",
    "```\n",
    "\n",
    "Pandas Datenreihe und Datenrahmen:\n",
    "\n",
    "```python\n",
    "pandas.Series(), pandas.DataFrame()\n",
    "``` \n",
    "\n",
    "----"
   ]
  },
  {
   "cell_type": "code",
   "execution_count": 31,
   "metadata": {},
   "outputs": [
    {
     "name": "stderr",
     "output_type": "stream",
     "text": [
      "/srv/conda3/envs/py3-general/lib/python3.7/site-packages/ipykernel_launcher.py:3: DeprecationWarning: The default dtype for empty Series will be 'object' instead of 'float64' in a future version. Specify a dtype explicitly to silence this warning.\n",
      "  This is separate from the ipykernel package so we can avoid doing imports until\n"
     ]
    },
    {
     "data": {
      "text/plain": [
       "Series([], dtype: float64)"
      ]
     },
     "execution_count": 31,
     "metadata": {},
     "output_type": "execute_result"
    }
   ],
   "source": [
    "import pandas as pd\n",
    "\n",
    "pd.Series()"
   ]
  },
  {
   "cell_type": "code",
   "execution_count": 32,
   "metadata": {},
   "outputs": [
    {
     "name": "stdout",
     "output_type": "stream",
     "text": [
      "[1 2 3]\n",
      "1\n",
      "[3 2 1]\n",
      "3\n"
     ]
    }
   ],
   "source": [
    "print(np.array([1, 2, 3]))\n",
    "print(np.array([1, 2, 3])[0])\n",
    "print(np.array([1, 2, 3])[::-1])\n",
    "print(np.array([1, 2, 3])[::-1][0])"
   ]
  },
  {
   "cell_type": "markdown",
   "metadata": {},
   "source": [
    "----\n",
    "### Das Pandas-Series-Objekt\n",
    "\n",
    "```python\n",
    "pandas.Series()\n",
    "``` \n",
    "\n",
    "* erweiterter 1D-NumPy-Array:\n",
    "    * Index bei NumPy *implizit definiert*: ganzzahlig für Einträge\n",
    "    * Index bei Pandas *explizit definiert*: Index gehört zu Wert, muss keine Ganzzahl sein\n",
    "* spezialisiertes Dictionary\n",
    "    * Wert-Schlüssel Zuweisung des Dictionaries ist vergleichbar mit Index-Wert Paar der Pandas-Series\n",
    "    + zusätzl. Array-Operationen (Slicing, Broadcasting)\n",
    "\n",
    "\n",
    "#### Series erzeugen\n",
    "\n",
    "```python\n",
    "import pandas as pd\n",
    "\n",
    "pd.Series(data, index=index) # data: Dateneingabe (kann Listen- oder Array-artig sein), index: optionales Argument für Index (kann ebenfalls Listen- oder Array-artig sein)\n",
    "\n",
    "# # Bsp.:\n",
    "pd.Series([2, 4, 6]) # index wird bei 0 begonnen und ganzzahlig fortlaufend nummeriert\n",
    "pd.Series([2, 4, 6], index=[\"a\", \"b\", \"c\"]) # index wird als beliebiger String definiert\n",
    "pd.Series([2, 4, 6], index=[0, 10, 20]) # index wird als beliebiger Integer definiert\n",
    "\n",
    "pd.Series({\"Bonn\":15, \"Köln\":18}) # index verwendet die Schlüssel des Dictionaries\n",
    "pd.Series(42, index=[0, 10, 20, 30, 40]) # beliebiger Wert 42 wird für alle Indizes übernommen\n",
    "\n",
    "```\n",
    "\n",
    "### Das Pandas-DataFrame-Objekt\n",
    "\n",
    "```python\n",
    "pandas.DataFrame()\n",
    "``` \n",
    "\n",
    "* erweiterter 2D-NumPy-Array:\n",
    "    * Index (Zeile und Spalte) bei NumPy *implizit definiert*: ganzzahlig für Einträge\n",
    "    * Index und Column bei Pandas *explizit definiert*: Index gehört zu Wert, muss keine Ganzzahl sein, Column benennt die zweite Dimension\n",
    "* spezialisiertes 2D-Dictionary\n",
    "    * Wert-Schlüssel Zuweisung des Dictionaries ist vergleichbar mit Index-Wert Paar der Pandas-Series\n",
    "    + zusätzl. Array-Operationen (Slicing, Broadcasting)\n",
    "    + zusätzl. zweidimensionale \"Schlüssel\"-Zuweisung\n",
    "* Verknüpfung zweier Pandas-Series mit übereinstimmenden Indizes zu 2D-Datenframe\n",
    "\n",
    "#### DataFrame erzeugen\n",
    "\n",
    "```python\n",
    "import pandas as pd\n",
    "\n",
    "pd.DataFrame(data, index=index, columns=columns) # data: Dateneingabe (kann Listen- oder Array-artig sein), index: optionales Argument für Zeilen-Index (kann ebenfalls Listen- oder Array-artig sein), columns: optionales Argument für Spalten-Index (kann ebenfalls Listen- oder Array-artig sein)\n",
    "\n",
    "# # Bsp.:\n",
    "pd.DataFrame([2, 4, 6]) # index und column werden bei 0 begonnen und ganzzahlig fortlaufend nummeriert\n",
    "pd.DataFrame([2, 4, 6], index=[\"a\", \"b\", \"c\"] , columns=[\"Spalte 1\"]) # index und column werden als beliebiger String definiert\n",
    "pd.DataFrame([[2, 4, 6]], columns=[0, 10, 20]) # column wird als beliebiger Integer definiert, index wird automatisch nummeriert\n",
    "\n",
    "pd.DataFrame([{'a':1, 'b':2}, {'b':3, 'c':4}]) # DataFrame wird aus Liste mehrerer Dictionaries erstellt\n",
    "pd.DataFrame([{\"Bonn\":15, \"Köln\":18}]) # column verwendet die Schlüssel des Dictionaries\n",
    "pd.DataFrame(42, index=[0, 10, 20, 30, 40], columns=[\"Wo\", \"Wann\", \"Warum\"]) # beliebiger Wert 42 wird für alle Indizes und Columns übernommen\n",
    "\n",
    "pd.DataFrame({\"Series1\":pd.Series({\"Bonn\":15, \"Köln\":18}), \"Series2\":pd.Series({\"Bonn\":20, \"Köln\":30})}) # DataFrame aus einem Dictionary zweier Series, die wiederum aus Dictionaries erstellt werden\n",
    "\n",
    "```\n",
    "----"
   ]
  },
  {
   "cell_type": "code",
   "execution_count": 33,
   "metadata": {},
   "outputs": [
    {
     "name": "stdout",
     "output_type": "stream",
     "text": [
      "PANDAS SERIES\n",
      "\n",
      "##################\n",
      "\n",
      "pd.Series([2, 4, 6]) :\n",
      "\n",
      "0    2\n",
      "1    4\n",
      "2    6\n",
      "dtype: int64\n",
      "\n",
      "##################\n",
      "\n",
      "pd.Series([2, 4, 6], index=[\"a\", \"b\", \"c\"]) :\n",
      "\n",
      "a    2\n",
      "b    4\n",
      "c    6\n",
      "dtype: int64\n",
      "\n",
      "##################\n",
      "\n",
      "pd.Series([2, 4, 6], index=[0, 10, 20]) :\n",
      "\n",
      "0     2\n",
      "10    4\n",
      "20    6\n",
      "dtype: int64\n",
      "\n",
      "##################\n",
      "\n",
      "pd.Series({\"Bonn\":15, \"Köln\":18}) :\n",
      "\n",
      "Bonn    15\n",
      "Köln    18\n",
      "dtype: int64\n",
      "\n",
      "##################\n",
      "\n",
      "pd.Series(42, index=[0, 10, 20, 30, 40]) :\n",
      "\n",
      "0     42\n",
      "10    42\n",
      "20    42\n",
      "30    42\n",
      "40    42\n",
      "dtype: int64\n",
      "\n",
      "####################\n",
      "####################\n",
      "\n",
      "\n",
      "PANDAS DATAFRAME\n",
      "\n",
      "##################\n",
      "\n",
      "pd.DataFrame([2, 4, 6]) :\n",
      "\n",
      "   0\n",
      "0  2\n",
      "1  4\n",
      "2  6\n",
      "\n",
      "##################\n",
      "\n",
      "pd.DataFrame([2, 4, 6], index=[\"a\", \"b\", \"c\"] , columns=[\"Spalte 1\"]) :\n",
      "\n",
      "   Spalte 1\n",
      "a         2\n",
      "b         4\n",
      "c         6\n",
      "\n",
      "##################\n",
      "\n",
      "pd.DataFrame([[2, 4, 6]], columns=[0, 10, 20]) :\n",
      "\n",
      "   0   10  20\n",
      "0   2   4   6\n",
      "\n",
      "##################\n",
      "\n",
      "pd.DataFrame([{'a':1, 'b':2}, {'b':3, 'c':4}]) :\n",
      "\n",
      "     a  b    c\n",
      "0  1.0  2  NaN\n",
      "1  NaN  3  4.0\n",
      "\n",
      "##################\n",
      "\n",
      "pd.DataFrame([{\"Bonn\":15, \"Köln\":18}]) :\n",
      "\n",
      "   Bonn  Köln\n",
      "0    15    18\n",
      "\n",
      "##################\n",
      "\n",
      "pd.DataFrame(42, index=[0, 10, 20, 30, 40], columns=[\"Wo\", \"Wann\", \"Warum\"]) :\n",
      "\n",
      "    Wo  Wann  Warum\n",
      "0   42    42     42\n",
      "10  42    42     42\n",
      "20  42    42     42\n",
      "30  42    42     42\n",
      "40  42    42     42\n",
      "\n",
      "##################\n",
      "\n",
      "pd.DataFrame({\"Series1\":pd.Series({\"Bonn\":15, \"Köln\":18}), \"Series2\":pd.Series({\"Bonn\":20, \"Köln\":30})}) :\n",
      "\n",
      "      Series1  Series2\n",
      "Bonn       15       20\n",
      "Köln       18       30\n"
     ]
    }
   ],
   "source": [
    "import pandas as pd\n",
    "\n",
    "# pd.Series(data, index=index) # data: Dateneingabe (kann Listen- oder Array-artig sein), index: optionales Argument für Index (kann ebenfalls Listen- oder Array-artig sein)\n",
    "\n",
    "# # Bsp.:\n",
    "print( \"PANDAS SERIES\" )\n",
    "print( \"\\n##################\\n\" )\n",
    "print( 'pd.Series([2, 4, 6])', \":\\n\" )\n",
    "print( pd.Series([2, 4, 6]) ) # index wird bei 0 begonnen und ganzzahlig fortlaufend nummeriert\n",
    "print( \"\\n##################\\n\" )\n",
    "print( 'pd.Series([2, 4, 6], index=[\"a\", \"b\", \"c\"])', \":\\n\" )\n",
    "print( pd.Series([2, 4, 6], index=[\"a\", \"b\", \"c\"]) ) # index wird als beliebiger String definiert\n",
    "print( \"\\n##################\\n\" )\n",
    "print( 'pd.Series([2, 4, 6], index=[0, 10, 20])', \":\\n\" )\n",
    "print( pd.Series([2, 4, 6], index=[0, 10, 20]) ) # index wird als beliebiger Integer definiert\n",
    "\n",
    "print( \"\\n##################\\n\" )\n",
    "print( 'pd.Series({\"Bonn\":15, \"Köln\":18})', \":\\n\" )\n",
    "print( pd.Series({\"Bonn\":15, \"Köln\":18}) ) # index verwendet die Schlüssel des Dictionaries\n",
    "print( \"\\n##################\\n\" )\n",
    "print( 'pd.Series(42, index=[0, 10, 20, 30, 40])', \":\\n\" )\n",
    "print( pd.Series(42, index=[0, 10, 20, 30, 40]) ) # beliebiger Wert 42 wird für alle Indizes übernommen\n",
    "\n",
    "# Codezeile zum Testen\n",
    "\n",
    "import numpy as np\n",
    "\n",
    "# pd.DataFrame(data, index=index, columns=columns) # data: Dateneingabe (kann Listen- oder Array-artig sein), index: optionales Argument für Zeilen-Index (kann ebenfalls Listen- oder Array-artig sein), columns: optionales Argument für Spalten-Index (kann ebenfalls Listen- oder Array-artig sein)\n",
    "\n",
    "# # Bsp.:\n",
    "print( \"\\n####################\\n####################\")\n",
    "print( \"\\n\\nPANDAS DATAFRAME\" )\n",
    "print( \"\\n##################\\n\" )\n",
    "print( 'pd.DataFrame([2, 4, 6])', \":\\n\" )\n",
    "print( pd.DataFrame([2, 4, 6]) ) # index und column werden bei 0 begonnen und ganzzahlig fortlaufend nummeriert\n",
    "print( \"\\n##################\\n\" )\n",
    "print( 'pd.DataFrame([2, 4, 6], index=[\"a\", \"b\", \"c\"] , columns=[\"Spalte 1\"])', \":\\n\")\n",
    "print( pd.DataFrame([2, 4, 6], index=[\"a\", \"b\", \"c\"] , columns=[\"Spalte 1\"]) ) # index und column werden als beliebiger String definiert\n",
    "print( \"\\n##################\\n\" )\n",
    "print( 'pd.DataFrame([[2, 4, 6]], columns=[0, 10, 20])', \":\\n\")\n",
    "print( pd.DataFrame([[2, 4, 6]], columns=[0, 10, 20]) ) # column wird als beliebiger Integer definiert, index wird automatisch nummeriert\n",
    "\n",
    "print( \"\\n##################\\n\" )\n",
    "print( \"pd.DataFrame([{'a':1, 'b':2}, {'b':3, 'c':4}])\", \":\\n\")\n",
    "print( pd.DataFrame([{'a':1, 'b':2}, {'b':3, 'c':4}]) ) # DataFrame wird aus Liste mehrerer Dictionaries erstellt\n",
    "print( \"\\n##################\\n\" )\n",
    "print( 'pd.DataFrame([{\"Bonn\":15, \"Köln\":18}])', \":\\n\" )\n",
    "print( pd.DataFrame([{\"Bonn\":15, \"Köln\":18}]) ) # column verwendet die Schlüssel des Dictionaries\n",
    "print( \"\\n##################\\n\" )\n",
    "print( 'pd.DataFrame(42, index=[0, 10, 20, 30, 40], columns=[\"Wo\", \"Wann\", \"Warum\"])', \":\\n\" )\n",
    "print( pd.DataFrame(42, index=[0, 10, 20, 30, 40], columns=[\"Wo\", \"Wann\", \"Warum\"]) ) # beliebiger Wert 42 wird für alle Indizes und Columns übernommen\n",
    "\n",
    "print( \"\\n##################\\n\" )\n",
    "print( 'pd.DataFrame({\"Series1\":pd.Series({\"Bonn\":15, \"Köln\":18}), \"Series2\":pd.Series({\"Bonn\":20, \"Köln\":30})})', \":\\n\" )\n",
    "print( pd.DataFrame({\"Series1\":pd.Series({\"Bonn\":15, \"Köln\":18}), \"Series2\":pd.Series({\"Bonn\":20, \"Köln\":30})}) ) # DataFrame aus einem Dictionary zweier Series, die wiederum aus Dictionaries erstellt werden"
   ]
  },
  {
   "cell_type": "markdown",
   "metadata": {},
   "source": [
    "----\n",
    "\n",
    "### Indizierung von Pandas-Objekten:\n",
    "\n",
    "* Indizierung von Index und Values wie bei bisherigen Containern (Tupel, Listen, Strings)\n",
    "* Multi-dimensional wie bei NumPy-ndarrays\n",
    "* Indizierung von Columns (Spalten) wie bei Dictionaries nach Schlüssel\n",
    "\n",
    "außerdem gibt es folgende Attribute:\n",
    "\n",
    "#### Indizes\n",
    "\n",
    "```python\n",
    "pd.Series([2, 4, 6]).index\n",
    "pd.DataFrame([2, 4, 6]).index\n",
    "```\n",
    "\n",
    "#### Columns\n",
    "\n",
    "```python\n",
    "pd.DataFrame([2, 4, 6]).columns\n",
    "```\n",
    "\n",
    "#### Values\n",
    "\n",
    "```python\n",
    "pd.Series([2, 4, 6]).values\n",
    "pd.DataFrame([2, 4, 6]).values\n",
    "```\n",
    "\n",
    "----"
   ]
  },
  {
   "cell_type": "code",
   "execution_count": 34,
   "metadata": {},
   "outputs": [
    {
     "data": {
      "text/plain": [
       "Index(['a', 'b', 0], dtype='object')"
      ]
     },
     "execution_count": 34,
     "metadata": {},
     "output_type": "execute_result"
    }
   ],
   "source": [
    "# Codezeile zum Testen\n",
    "c = 0\n",
    "pd.Series([2, 4, 6], index=[\"a\", \"b\", c]).index"
   ]
  },
  {
   "cell_type": "code",
   "execution_count": 35,
   "metadata": {},
   "outputs": [
    {
     "data": {
      "text/plain": [
       "RangeIndex(start=0, stop=3, step=1)"
      ]
     },
     "execution_count": 35,
     "metadata": {},
     "output_type": "execute_result"
    }
   ],
   "source": [
    "pd.DataFrame([2, 4, 6]).index"
   ]
  },
  {
   "cell_type": "code",
   "execution_count": 36,
   "metadata": {},
   "outputs": [
    {
     "data": {
      "text/plain": [
       "RangeIndex(start=0, stop=1, step=1)"
      ]
     },
     "execution_count": 36,
     "metadata": {},
     "output_type": "execute_result"
    }
   ],
   "source": [
    "pd.DataFrame([2, 4, 6]).columns"
   ]
  },
  {
   "cell_type": "code",
   "execution_count": 37,
   "metadata": {},
   "outputs": [
    {
     "data": {
      "text/plain": [
       "array([2, 4, 6])"
      ]
     },
     "execution_count": 37,
     "metadata": {},
     "output_type": "execute_result"
    }
   ],
   "source": [
    "pd.Series([2, 4, 6]).values"
   ]
  },
  {
   "cell_type": "code",
   "execution_count": 38,
   "metadata": {},
   "outputs": [
    {
     "data": {
      "text/plain": [
       "array([[2],\n",
       "       [4],\n",
       "       [6]])"
      ]
     },
     "execution_count": 38,
     "metadata": {},
     "output_type": "execute_result"
    }
   ],
   "source": [
    "pd.DataFrame([2, 4, 6]).values"
   ]
  },
  {
   "cell_type": "markdown",
   "metadata": {},
   "source": [
    "----\n",
    "\n",
    "**Aufgabe 3:**\n",
    "\n",
    "Erstellen Sie einen Pandas-DataFrame, füllen Sie ihn mit `int` und `float`-Werten und lassen Sie sich folgendes einzeln ausgeben:\n",
    "\n",
    "1. den gesamten DataFrame\n",
    "2. nur die Werte des DataFrames\n",
    "3. nur die Indizes\n",
    "4. nur die Columns\n",
    "\n",
    "Erstellen Sie eine weitere column, in der Sie die Differenz vorheriger Columns berechnen."
   ]
  },
  {
   "cell_type": "code",
   "execution_count": 39,
   "metadata": {},
   "outputs": [
    {
     "name": "stdout",
     "output_type": "stream",
     "text": [
      "1. gesamter DataFrame:\n",
      "   0   1   2   3\n",
      "0  1   2   3   4\n",
      "1  5   6   7   8\n",
      "2  9  10  11  12\n",
      "2. nur die Werte des DataFrames:\n",
      "[[ 1  2  3  4]\n",
      " [ 5  6  7  8]\n",
      " [ 9 10 11 12]]\n",
      "2. nur die Werte des DataFrames (Datatype):\n",
      "int64\n",
      "3. nur die Indizes:\n",
      "RangeIndex(start=0, stop=3, step=1)\n",
      "4. nur die Columns:\n",
      "RangeIndex(start=0, stop=4, step=1)\n",
      "   0   1   2   3   10\n",
      "0   1   2   3   4  -3\n",
      "1   5   6   7   8  -3\n",
      "2   9  10  11  12  -3\n"
     ]
    }
   ],
   "source": [
    "# Codezeile Aufgabe\n",
    "import pandas as pd\n",
    "\n",
    "arrayf = np.array([[1, 2, 3, 4], [5, 6, 7, 8], [9, 10, 11, 12]])\n",
    "# print(arrayf)\n",
    "dataf = pd.DataFrame(arrayf)\n",
    "print(\"1. gesamter DataFrame:\", dataf, sep=\"\\n\")\n",
    "print(\"2. nur die Werte des DataFrames:\", dataf.values, sep=\"\\n\")\n",
    "print(\"2. nur die Werte des DataFrames (Datatype):\", np.array(dataf.values).dtype, sep=\"\\n\")\n",
    "print(\"3. nur die Indizes:\", dataf.index, sep=\"\\n\")\n",
    "print(\"4. nur die Columns:\", dataf.columns, sep=\"\\n\")\n",
    "\n",
    "dataf[10] = dataf[0] - dataf[3]\n",
    "print(dataf)"
   ]
  },
  {
   "cell_type": "code",
   "execution_count": 40,
   "metadata": {},
   "outputs": [
    {
     "name": "stdout",
     "output_type": "stream",
     "text": [
      "1. gesamter DataFrame:\n",
      "   col1  col2  col3  col4\n",
      "a   1.0   2.0   3.0   4.0\n",
      "b   5.0   6.0   7.0   8.0\n",
      "c   9.0  10.0  11.0  12.0\n",
      "2. nur die Werte des DataFrames:\n",
      "[[ 1.  2.  3.  4.]\n",
      " [ 5.  6.  7.  8.]\n",
      " [ 9. 10. 11. 12.]]\n",
      "2. nur die Werte des DataFrames (Datatype):\n",
      "float64\n",
      "3. nur die Indizes:\n",
      "Index(['a', 'b', 'c'], dtype='object')\n",
      "4. nur die Columns:\n",
      "Index(['col1', 'col2', 'col3', 'col4'], dtype='object')\n",
      "   col1  col2  col3  col4  col10\n",
      "a   1.0   2.0   3.0   4.0   -3.0\n",
      "b   5.0   6.0   7.0   8.0   -3.0\n",
      "c   9.0  10.0  11.0  12.0   -3.0\n"
     ]
    }
   ],
   "source": [
    "arrayf = np.array([[1, 2, 3, 4], [5, 6, 7, 8], [9, 10, 11, 12.0]])\n",
    "dataf = pd.DataFrame(arrayf, \n",
    "                     index=[\"a\", \"b\", \"c\"], \n",
    "                     columns=[\"col1\", \"col2\", \"col3\", \"col4\"]\n",
    "                    )\n",
    "\n",
    "print(\"1. gesamter DataFrame:\", dataf, sep=\"\\n\")\n",
    "print(\"2. nur die Werte des DataFrames:\", dataf.values, sep=\"\\n\")\n",
    "print(\"2. nur die Werte des DataFrames (Datatype):\", np.array(dataf.values).dtype, sep=\"\\n\")\n",
    "print(\"3. nur die Indizes:\", dataf.index, sep=\"\\n\")\n",
    "print(\"4. nur die Columns:\", dataf.columns, sep=\"\\n\")\n",
    "\n",
    "dataf[\"col10\"] = dataf[\"col1\"] - dataf[\"col4\"]\n",
    "print(dataf)"
   ]
  },
  {
   "cell_type": "code",
   "execution_count": 41,
   "metadata": {},
   "outputs": [
    {
     "name": "stdout",
     "output_type": "stream",
     "text": [
      "    col1  col2  col3  col4   10\n",
      "25   1.0   2.0   3.0   4.0 -3.0\n",
      "b    5.0   6.0   7.0   8.0 -3.0\n",
      "c    9.0  10.0  11.0  12.0 -3.0\n"
     ]
    }
   ],
   "source": [
    "a = 25\n",
    "dataf.rename(index={\"a\":a},columns={\"col10\":10}, inplace=True)\n",
    "print(dataf)"
   ]
  },
  {
   "cell_type": "code",
   "execution_count": 42,
   "metadata": {},
   "outputs": [
    {
     "name": "stdout",
     "output_type": "stream",
     "text": [
      "     1   2   3\n",
      "0   42  42  42\n",
      "1   42  42  42\n",
      "10  42  42  42\n",
      "20  42  42  42\n",
      "30  42  42  42\n",
      "40  42  42  42\n",
      "Int64Index([0, 1, 10, 20, 30, 40], dtype='int64')\n",
      "Int64Index([1, 2, 3], dtype='int64')\n",
      "42\n",
      "     1   2   3\n",
      "0   42  42  42\n",
      "1   42  42  42\n",
      "10  42  42  42\n",
      "20  42  42  42\n",
      "30  42  42  42\n",
      "40  42  42  42\n"
     ]
    }
   ],
   "source": [
    "import numpy as np\n",
    "import pandas as pd\n",
    "data = pd.DataFrame(42, index=[0, 1, 10, 20, 30, 40], columns=[1, 2, 3])\n",
    "print(data)\n",
    "print(data.index)\n",
    "print(data.columns)\n",
    "print(data[1][10])\n",
    "print(data)"
   ]
  },
  {
   "cell_type": "markdown",
   "metadata": {},
   "source": [
    "----\n",
    "----\n",
    "\n",
    "## Exkurs: Mathematische Operationen -> gesondertes Notebook\n",
    "\n",
    "Sowohl `numpy` als auch `pandas` haben Methoden und Funktionen für Statistik und numerische oder analytische Operationen.\n",
    "\n",
    "Weitere Operationen aus dem C-Standard erhält man mit den Modulen `math` [python.org - math](https://docs.python.org/3/library/math.html) (für nicht-komplexe Zahlen) und `cmath` [python.org - cmath](https://docs.python.org/3/library/cmath.html) (für komplexe Zahlen).\n",
    "\n",
    "Spezielle Funktionen für Berechnungen im wissenschaftlichen Gebrauch (Algorithmen für Interpolationen, Inversion, Eigenwert-Probleme etc.) sind im Modul `scipy` (*Scientific Python* [scipy.org](https://scipy.org/)) verfügbar.\n",
    "\n",
    "Für die symbolhafte Darstellung in der Mathematik gibt es das Modul `sympy` (*Symbolic Python* [sympy.org](https://www.sympy.org/en/index.html)).\n",
    "\n",
    "-----\n",
    "\n",
    "\n",
    "### Komplexe Zahlen\n",
    "\n",
    "Funktionen für komplexe Zahlen mit `numpy`:\n",
    "\n",
    "```python\n",
    "import numpy as np\n",
    "np.real # Realteil\n",
    "np.imag # Imaginärteil\n",
    "np.abs # Betrag\n",
    "np.conjugate # konjugiert Komplexes\n",
    "```\n",
    "\n",
    "Funktionen für komplexe Zahlen mit `cmath`:\n",
    "\n",
    "```python\n",
    "import cmath\n",
    "cmath.polar # Umrechnung in Polarform\n",
    "cmath.rect # Umrechnung in kartesische Form\n",
    "cmath.phase # Berechnung der Phase\n",
    "```\n",
    "----\n",
    "\n",
    "\n",
    "### Lineare Algebra\n",
    "\n",
    "Wichtige Funktionen für lineare Algebra mit NumPy:\n",
    "\n",
    "```python\n",
    "import numpy\n",
    "\n",
    "np.dot                # Skalarprodukt\n",
    "np.cross              # Kreuzprodukt\n",
    "\n",
    "np.transpose          # Transponierte\n",
    "np.linalg.det         # Determinante\n",
    "np.linalg.norm        # Betrag (Vektoren und Matrizen)\n",
    "np.linalg.eig         # Eigenwerte und Eigenvektoren\n",
    "\n",
    "np.linalg.solve       # Solver für lineare Gleichungssysteme\n",
    "np.linalg.tensorsolve # Tensorsolver für LGS\n",
    "\n",
    "np.linalg.inv         # Inverse\n",
    "np.linalg.pinv        # Pseudoinverse\n",
    "\n",
    "np.linalg.svd         # Singulärwertzerlegung\n",
    "\n",
    "```\n",
    "\n",
    "----\n",
    "### Regression\n",
    "\n",
    "Wichtige Funktionen für Regressionen:\n",
    "\n",
    "```python\n",
    "import numpy\n",
    "\n",
    "np.polyfit() # Fit von Polynomen von Grad n\n",
    "np.polyval() # entsprechende Werteverteilung\n",
    "\n",
    "```\n",
    "\n",
    "Andere Bibliotheken:<br>\n",
    "beispielsweise\n",
    "\n",
    "```python\n",
    "import scipy.stats as scstats\n",
    "\n",
    "scstats.linregress() # lineare Regression\n",
    "\n",
    "```\n",
    "----\n",
    "----"
   ]
  },
  {
   "cell_type": "markdown",
   "metadata": {},
   "source": [
    "----\n",
    "\n",
    "## Ausblick\n",
    "\n",
    "* Darstellung und Plots\n",
    "\n",
    "* Anwendung auf Daten (Darstellung, Import, Export, Prozessierung)\n",
    "\n",
    "* Objektorientiertes Programmieren (Klassen `class`) und eigene Bibliotheken "
   ]
  },
  {
   "cell_type": "code",
   "execution_count": null,
   "metadata": {},
   "outputs": [],
   "source": []
  }
 ],
 "metadata": {
  "kernelspec": {
   "display_name": "py3-general [conda env:py3-general]",
   "language": "python",
   "name": "conda-env-py3-general-py"
  },
  "language_info": {
   "codemirror_mode": {
    "name": "ipython",
    "version": 3
   },
   "file_extension": ".py",
   "mimetype": "text/x-python",
   "name": "python",
   "nbconvert_exporter": "python",
   "pygments_lexer": "ipython3",
   "version": "3.7.6"
  }
 },
 "nbformat": 4,
 "nbformat_minor": 4
}
