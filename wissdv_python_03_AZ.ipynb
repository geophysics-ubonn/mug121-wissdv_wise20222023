{
 "cells": [
  {
   "cell_type": "markdown",
   "id": "ongoing-filename",
   "metadata": {
    "tags": []
   },
   "source": [
    "----\n",
    "----\n",
    "\n",
    "## Exkurs: Mathematische Operationen\n",
    "\n",
    "Sowohl `numpy` als auch `pandas` haben Methoden und Funktionen für Statistik und numerische oder analytische Operationen.\n",
    "\n",
    "Weitere Operationen aus dem C-Standard erhält man mit den Modulen `math` [python.org - math](https://docs.python.org/3/library/math.html) (für nicht-komplexe Zahlen) und `cmath` [python.org - cmath](https://docs.python.org/3/library/cmath.html) (für komplexe Zahlen).\n",
    "\n",
    "Spezielle Funktionen für Berechnungen im wissenschaftlichen Gebrauch (Algorithmen für Interpolationen, Inversion, Eigenwert-Probleme etc.) sind im Modul `scipy` (*Scientific Python* [scipy.org](https://scipy.org/)) verfügbar.\n",
    "\n",
    "Für die symbolhafte Darstellung in der Mathematik gibt es das Modul `sympy` (*Symbolic Python* [sympy.org](https://www.sympy.org/en/index.html)).\n",
    "\n",
    "-----\n",
    "\n",
    "\n",
    "### Komplexe Zahlen\n",
    "\n",
    "Funktionen für komplexe Zahlen mit `numpy`:\n",
    "\n",
    "```python\n",
    "\n",
    "# komplexe Zahl:\n",
    "c = complex(2, 3)\n",
    "c = 2 + 3j\n",
    "\n",
    "import numpy as np\n",
    "np.real # Realteil\n",
    "np.imag # Imaginärteil\n",
    "np.abs # Betrag\n",
    "np.conjugate # konjugiert Komplexes\n",
    "```\n",
    "\n",
    "Funktionen für komplexe Zahlen mit `cmath`:\n",
    "\n",
    "```python\n",
    "import cmath\n",
    "cmath.polar # Umrechnung in Polarform\n",
    "cmath.rect # Umrechnung in kartesische Form\n",
    "cmath.phase # Berechnung der Phase\n",
    "```\n",
    "----\n",
    "\n"
   ]
  },
  {
   "cell_type": "code",
   "execution_count": 89,
   "id": "martial-newman",
   "metadata": {},
   "outputs": [
    {
     "name": "stdout",
     "output_type": "stream",
     "text": [
      "(2+3j)\n",
      "(1+2j)\n"
     ]
    }
   ],
   "source": [
    "# Codezeile zum Testen\n",
    "\n",
    "import numpy as np\n",
    "\n",
    "c = complex(2, 3)\n",
    "komplexe_zahl = 1 + 2j\n",
    "\n",
    "print(c, komplexe_zahl, sep=\"\\n\")"
   ]
  },
  {
   "cell_type": "markdown",
   "id": "derived-antarctica",
   "metadata": {},
   "source": [
    "---\n",
    "#### **Aufgabe Komplexe Zahlen:**\n",
    "\n",
    "1. Führen Sie für zwei beliebige komplexe Zahlen die folgenden Berechnungen durch:\n",
    "\n",
    "    a) Summe<br>\n",
    "    b) Differenz<br>\n",
    "    c) Produkt<br>\n",
    "    d) Division\n",
    "\n",
    "2. Lassen Sie sich den Real- und Imaginärteil sowie Betrag und konjugiert Komplexes ausgeben.\n",
    "\n",
    "3. Rechnen Sie eine der komplexen Zahlen mit `cmath.polar` in Polarform um. Gibt es Alternativen zu `cmath.polar`? Funktioniert auch die Rückberechnung in die kartesische Form?\n",
    "\n",
    "----"
   ]
  },
  {
   "cell_type": "code",
   "execution_count": 1,
   "id": "natural-rachel",
   "metadata": {},
   "outputs": [],
   "source": [
    "# Eigener Code zu 1\n",
    "\n"
   ]
  },
  {
   "cell_type": "code",
   "execution_count": 2,
   "id": "conscious-biodiversity",
   "metadata": {},
   "outputs": [],
   "source": [
    "# Eigener Code zu 2\n",
    "\n"
   ]
  },
  {
   "cell_type": "code",
   "execution_count": 3,
   "id": "equivalent-characteristic",
   "metadata": {},
   "outputs": [],
   "source": [
    "# Eigener Code zu 3\n",
    "\n"
   ]
  },
  {
   "cell_type": "markdown",
   "id": "banner-journalist",
   "metadata": {},
   "source": [
    "----\n",
    "\n",
    "### Lineare Algebra\n",
    "\n",
    "Wichtige Funktionen für lineare Algebra mit NumPy:\n",
    "\n",
    "```python\n",
    "import numpy as np\n",
    "\n",
    "np.dot                # Skalarprodukt\n",
    "np.cross              # Kreuzprodukt\n",
    "np.transpose          # Transponierte\n",
    "np.linalg.det         # Determinante\n",
    "np.linalg.norm        # Betrag (Vektoren und Matrizen)\n",
    "np.linalg.eig         # Eigenwerte und Eigenvektoren\n",
    "\n",
    "np.linalg.solve       # Solver für lineare Gleichungssysteme\n",
    "\n",
    "np.linalg.inv         # Inverse\n",
    "np.linalg.pinv        # Pseudoinverse\n",
    "\n",
    "np.linalg.svd         # Singulärwertzerlegung\n",
    "\n",
    "```\n",
    "\n",
    "Vielleicht nützlich zur Überprüfung von Matheaufgaben :-)\n",
    "\n",
    "----\n"
   ]
  },
  {
   "cell_type": "markdown",
   "id": "continental-weapon",
   "metadata": {},
   "source": [
    "---\n",
    "#### **Aufgabe Lineare Algebra:**\n",
    "\n",
    "1. Geben Sie für die Matrizen \n",
    "```python\n",
    "A = np.array([[1, 2],[3, 4]])\n",
    "B = np.array([[2, 3], [4, 5]])\n",
    "C = np.array([[1/2, 0, np.sqrt(3)/2], [0, -1, 0],[-np.sqrt(3)/2, 0, 1/2]])\n",
    "```\n",
    "und den Vektor\n",
    "```python\n",
    "b = np.array([np.sqrt(3), -1, 1]) \n",
    "```\n",
    "die Transponierten aus.\n",
    "\n",
    "2. Berechnen Sie für $ A, B, C, b $ alle möglichen Determinanten, Normen und Inversen/Pseudoinversen.\n",
    "\n",
    "3. Welche Produkte lassen sich zwischen welchen Matrizen/Vektoren mit `np.linalg.dot` sowie `np.linalg.cross` berechnen?\n",
    "\n",
    "4. Lösen Sie mit `np.linalg.solve` das Gleichungssystem  $ Cx=b $ nach $ x $. Überprüfen Sie, ob durch Invertieren von $ C $ und Multiplizieren mit $ b $ das gleiche Ergebnis rauskommt.\n",
    "\n",
    "----"
   ]
  },
  {
   "cell_type": "code",
   "execution_count": 4,
   "id": "concrete-cover",
   "metadata": {},
   "outputs": [],
   "source": [
    "# Eigener Code zu 1\n",
    "\n"
   ]
  },
  {
   "cell_type": "code",
   "execution_count": 5,
   "id": "juvenile-procedure",
   "metadata": {},
   "outputs": [],
   "source": [
    "# Eigener Code zu 2.1\n",
    "\n"
   ]
  },
  {
   "cell_type": "code",
   "execution_count": 6,
   "id": "educational-shepherd",
   "metadata": {},
   "outputs": [],
   "source": [
    "# Eigener Code zu 2.2\n",
    "\n"
   ]
  },
  {
   "cell_type": "code",
   "execution_count": 7,
   "id": "boxed-november",
   "metadata": {},
   "outputs": [],
   "source": [
    "# Eigener Code zu 3\n",
    "\n"
   ]
  },
  {
   "cell_type": "code",
   "execution_count": 8,
   "id": "brown-bhutan",
   "metadata": {
    "tags": []
   },
   "outputs": [],
   "source": [
    "# Eigener Code zu 4\n",
    "\n"
   ]
  },
  {
   "cell_type": "code",
   "execution_count": null,
   "id": "german-simple",
   "metadata": {
    "tags": []
   },
   "outputs": [],
   "source": [
    "# Exkurs Eigenwerte und Singulärwertzerlegung\n",
    "\n",
    "#np.linalg.eig(A)\n",
    "#eigenwerte, eigenvektoren = np.linalg.eig(A)"
   ]
  },
  {
   "cell_type": "code",
   "execution_count": null,
   "id": "moderate-duncan",
   "metadata": {},
   "outputs": [],
   "source": [
    "#np.linalg.svd(A)"
   ]
  },
  {
   "cell_type": "markdown",
   "id": "sunrise-seeker",
   "metadata": {
    "tags": []
   },
   "source": [
    "----\n",
    "### Regression\n",
    "\n",
    "Wichtige Funktionen für Regressionen:\n",
    "\n",
    "```python\n",
    "import numpy\n",
    "\n",
    "np.polyfit() # Fit von Polynomen von Grad n\n",
    "np.polyval() # entsprechende Werteverteilung\n",
    "\n",
    "```\n",
    "\n",
    "----\n",
    "\n",
    "Andere Bibliotheken:<br>\n",
    "beispielsweise\n",
    "\n",
    "```python\n",
    "import scipy.stats as scstats\n",
    "\n",
    "scstats.linregress() # lineare Regression\n",
    "\n",
    "```\n",
    "----\n",
    "\n",
    "#### **Aufgabe zur Regression:**\n",
    "\n",
    "Ermitteln Sie zu\n",
    "```python\n",
    "x = np.linspace(0, 10, 10)\n",
    "y = [1, 2, 3, 2, 6, 8, 6, 9, 10, 8]\n",
    "```\n",
    "eine polynomielle Regression zweiten und fünften Grades.\n",
    "\n",
    "Plotten Sie die Datenpunkte und die zwei Regressionen als Funktionen in einer geeigneten Darstellung.\n",
    "\n",
    "----"
   ]
  },
  {
   "cell_type": "code",
   "execution_count": 9,
   "id": "white-circle",
   "metadata": {},
   "outputs": [],
   "source": [
    "# Eigener Code\n",
    "\n"
   ]
  },
  {
   "cell_type": "code",
   "execution_count": 10,
   "id": "physical-rouge",
   "metadata": {},
   "outputs": [],
   "source": [
    "#Alternative\n",
    "\n"
   ]
  },
  {
   "cell_type": "markdown",
   "id": "binary-passage",
   "metadata": {
    "tags": []
   },
   "source": [
    "----\n",
    "### Symbolisches Python\n",
    "\n",
    "Mit SymPy (symbolisches Python) können Sie Integrale oder Ableitungen symbolisch berechnen oder Differenzialgleichungen symbolisch lösen. Auch die Vereinfachung mathematischer Terme ist möglich.\n",
    "\n",
    "Modul `sympy` (*Symbolic Python* [sympy.org](https://www.sympy.org/en/index.html)) mit vielen Beispielen, auch zum [Plotten in SymPy](https://docs.sympy.org/latest/modules/plotting.html).\n",
    "\n",
    "```python\n",
    "from sympy import symbols\n",
    "from sympy import diff, integrate\n",
    "\n",
    "x = symbols(\"x\")\n",
    "y = x**3-7*x**2+7*x+15\n",
    "y_1 = diff(y, x, 1)\n",
    "y_2 = diff(y, x, 2)\n",
    "y_3 = diff(y, x, 3)\n",
    "\n",
    "Y = integrate(y,x)\n",
    "\n",
    "```\n",
    "----\n",
    "----"
   ]
  },
  {
   "cell_type": "code",
   "execution_count": 11,
   "id": "actual-schema",
   "metadata": {},
   "outputs": [
    {
     "data": {
      "text/latex": [
       "$\\displaystyle x^{3} - 7 x^{2} + 7 x + 15$"
      ],
      "text/plain": [
       "x**3 - 7*x**2 + 7*x + 15"
      ]
     },
     "execution_count": 11,
     "metadata": {},
     "output_type": "execute_result"
    }
   ],
   "source": [
    "# Codezeile zum Testen der Symbole\n",
    "\n",
    "from sympy import symbols\n",
    "\n",
    "x = symbols(\"x\")\n",
    "y = x**3-7*x**2+7*x+15\n",
    "y"
   ]
  },
  {
   "cell_type": "code",
   "execution_count": 12,
   "id": "precious-alabama",
   "metadata": {},
   "outputs": [
    {
     "data": {
      "text/latex": [
       "$\\displaystyle \\left(x + 2\\right)^{5}$"
      ],
      "text/plain": [
       "(x + 2)**5"
      ]
     },
     "execution_count": 12,
     "metadata": {},
     "output_type": "execute_result"
    }
   ],
   "source": [
    "(x + 2)**5"
   ]
  },
  {
   "cell_type": "markdown",
   "id": "modular-edmonton",
   "metadata": {},
   "source": [
    "---\n",
    "#### **Aufgabe SymPy:**\n",
    "\n",
    "1. Was machen `expand`, `factor`, `ratsimp` und `simplify`?\n",
    "\n",
    "2. Leiten Sie die Funktion $ y $ von oben drei mal ab und berechnen Sie die Stammfunktion.\n",
    "\n",
    "3. Nutzen Sie `solve` sowie `subs` neben der Ableitungen für eine Kurvendiskussion der Funktion $ x^3 - x^2 $.\n",
    "\n",
    "4. Wie lassen sich Integrale, bestimmte Integrale und uneigentliche Integrale bestimmen?\n",
    "\n",
    "5. Testen Sie die Plot-Funktion in `sympy`.\n",
    "\n",
    "----"
   ]
  },
  {
   "cell_type": "code",
   "execution_count": 13,
   "id": "demonstrated-internet",
   "metadata": {},
   "outputs": [],
   "source": [
    "# Eigener Code zu 1\n",
    "\n"
   ]
  },
  {
   "cell_type": "code",
   "execution_count": 14,
   "id": "coordinated-court",
   "metadata": {},
   "outputs": [],
   "source": [
    "# Eigener Code zu 2\n",
    "\n"
   ]
  },
  {
   "cell_type": "code",
   "execution_count": 15,
   "id": "auburn-desktop",
   "metadata": {},
   "outputs": [],
   "source": [
    "#from sympy import *\n",
    "#x, y, t, a = symbols(\"x y t a\")\n",
    "\n",
    "#funktion1 = cos(x)\n",
    "#ableitung1 = diff(funktion1, x)\n",
    "#ableitung1"
   ]
  },
  {
   "cell_type": "code",
   "execution_count": 16,
   "id": "arabic-butler",
   "metadata": {},
   "outputs": [],
   "source": [
    "#funktion2 = log(x**6/(2+x+3*x**4))\n",
    "#ableitung2 = diff(funktion2, x)\n",
    "#ableitung2"
   ]
  },
  {
   "cell_type": "code",
   "execution_count": 18,
   "id": "interpreted-google",
   "metadata": {},
   "outputs": [],
   "source": [
    "#funktion3 = 1/(1+exp(-t**2))\n",
    "#ableitung3 = diff(funktion3, t)\n",
    "#ableitung3"
   ]
  },
  {
   "cell_type": "code",
   "execution_count": 17,
   "id": "cognitive-nicaragua",
   "metadata": {},
   "outputs": [],
   "source": [
    "#funktion4 = exp(-a*y)*log(cos(y), 10)\n",
    "#ableitung4 = diff(funktion4, y)\n",
    "#ableitung4"
   ]
  },
  {
   "cell_type": "code",
   "execution_count": 20,
   "id": "polyphonic-landscape",
   "metadata": {},
   "outputs": [
    {
     "data": {
      "text/latex": [
       "$\\displaystyle a x^{2} + b x + c = 0$"
      ],
      "text/plain": [
       "Eq(a*x**2 + b*x + c, 0)"
      ]
     },
     "execution_count": 20,
     "metadata": {},
     "output_type": "execute_result"
    }
   ],
   "source": [
    "import sympy\n",
    "a, b, c = sympy.symbols('a b c')\n",
    "gleichung = sympy.Eq(a*x**2 + b*x + c, 0)\n",
    "gleichung"
   ]
  },
  {
   "cell_type": "code",
   "execution_count": 21,
   "id": "capable-rover",
   "metadata": {},
   "outputs": [
    {
     "data": {
      "text/plain": [
       "[(-b + sqrt(-4*a*c + b**2))/(2*a), -(b + sqrt(-4*a*c + b**2))/(2*a)]"
      ]
     },
     "execution_count": 21,
     "metadata": {},
     "output_type": "execute_result"
    }
   ],
   "source": [
    "sympy.solve(gleichung, x)"
   ]
  },
  {
   "cell_type": "code",
   "execution_count": 22,
   "id": "blocked-effect",
   "metadata": {},
   "outputs": [
    {
     "data": {
      "text/plain": [
       "[1, 2]"
      ]
     },
     "execution_count": 22,
     "metadata": {},
     "output_type": "execute_result"
    }
   ],
   "source": [
    "sympy.solve(gleichung.subs({a:1, b:-3, c:2}))"
   ]
  },
  {
   "cell_type": "code",
   "execution_count": 23,
   "id": "imported-excerpt",
   "metadata": {},
   "outputs": [],
   "source": [
    "# Eigener Code zu 3\n",
    "\n"
   ]
  },
  {
   "cell_type": "code",
   "execution_count": 24,
   "id": "occupied-precipitation",
   "metadata": {},
   "outputs": [],
   "source": [
    "# Eigener Code zu 4.1\n",
    "\n"
   ]
  },
  {
   "cell_type": "code",
   "execution_count": 25,
   "id": "cleared-responsibility",
   "metadata": {},
   "outputs": [],
   "source": [
    "# Eigener Code zu 4.2\n",
    "\n"
   ]
  },
  {
   "cell_type": "code",
   "execution_count": 27,
   "id": "athletic-azerbaijan",
   "metadata": {
    "tags": []
   },
   "outputs": [],
   "source": [
    "# Eigener Code zu 5\n",
    "\n",
    "from sympy.plotting import plot\n",
    "\n",
    "#plot(funktion1, ableitung1, (x, -np.pi, np.pi))"
   ]
  },
  {
   "cell_type": "code",
   "execution_count": 31,
   "id": "architectural-symphony",
   "metadata": {
    "tags": []
   },
   "outputs": [],
   "source": [
    "#plot(funktion3, ableitung3)"
   ]
  },
  {
   "cell_type": "code",
   "execution_count": 32,
   "id": "serial-reconstruction",
   "metadata": {},
   "outputs": [
    {
     "name": "stdout",
     "output_type": "stream",
     "text": [
      "1 - x**2 + O(x**3)\n",
      "exp(-1) - 2*(x - 1)*exp(-1) + (x - 1)**2*exp(-1) + O((x - 1)**3, (x, 1))\n"
     ]
    },
    {
     "data": {
      "text/plain": [
       "[<matplotlib.lines.Line2D at 0x7f6e37457160>,\n",
       " <matplotlib.lines.Line2D at 0x7f6e37457190>,\n",
       " <matplotlib.lines.Line2D at 0x7f6e37457250>]"
      ]
     },
     "execution_count": 32,
     "metadata": {},
     "output_type": "execute_result"
    },
    {
     "data": {
      "image/png": "[encoded data removed]",
      "text/plain": [
       "<Figure size 432x288 with 1 Axes>"
      ]
     },
     "metadata": {
      "needs_background": "light"
     },
     "output_type": "display_data"
    }
   ],
   "source": [
    "# Beispiel Taylorreihe\n",
    "import numpy as np\n",
    "from sympy import *\n",
    "import matplotlib as mpl\n",
    "import matplotlib.pyplot as plt\n",
    "%matplotlib inline\n",
    "\n",
    "x = S('x')\n",
    "\n",
    "f = exp(-x**2)\n",
    "\n",
    "#Taylorreihe im Entwicklungspunkt 0 bis Grad 2 (also ausschliesslich 3)\n",
    "T1 = f.series(x, 0, 3)\n",
    "print(T1)\n",
    "\n",
    "#Taylorreihe im Entwicklungspunkt 0 bis Grad 2 (also ausschliesslich 3)\n",
    "T2 = f.series(x, 1, 3)\n",
    "print(T2)\n",
    "\n",
    "xwerte = np.linspace(-np.pi/2, np.pi/2, 50)\n",
    "fwerte = np.exp(-xwerte**2)\n",
    "T1werte = 1 - xwerte**2\n",
    "T2werte = np.exp(-1) - 2*(xwerte - 1)*np.exp(-1) + (xwerte - 1)**2*np.exp(-1)\n",
    "\n",
    "plt.plot(xwerte, fwerte, xwerte, T1werte, xwerte, T2werte)"
   ]
  },
  {
   "cell_type": "code",
   "execution_count": null,
   "id": "secure-elements",
   "metadata": {},
   "outputs": [],
   "source": []
  }
 ],
 "metadata": {
  "kernelspec": {
   "display_name": "fenics [conda env:fenics]",
   "language": "python",
   "name": "conda-env-fenics-py"
  },
  "language_info": {
   "codemirror_mode": {
    "name": "ipython",
    "version": 3
   },
   "file_extension": ".py",
   "mimetype": "text/x-python",
   "name": "python",
   "nbconvert_exporter": "python",
   "pygments_lexer": "ipython3",
   "version": "3.8.5"
  }
 },
 "nbformat": 4,
 "nbformat_minor": 5
}
