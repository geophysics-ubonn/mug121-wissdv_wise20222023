{
 "cells": [
  {
   "cell_type": "markdown",
   "metadata": {},
   "source": [
    "Wintersemester 2022/2023"
   ]
  },
  {
   "cell_type": "markdown",
   "metadata": {},
   "source": [
    "# mug121 - Wissenschaftliche Datenverarbeitung: Hausaufgabe 07 - NumPy und Matplotlib"
   ]
  },
  {
   "cell_type": "markdown",
   "metadata": {},
   "source": [
    "> Niklas Heidemann (heidemann@geo.uni-bonn.de)\n",
    "\n",
    "Diese Hausaufgabe soll möglichst in **Gruppen von 3-4 Personen** bearbeitet und eingereicht werden."
   ]
  },
  {
   "cell_type": "markdown",
   "metadata": {},
   "source": [
    "----\n",
    "**Aufgabe 1:** **[20 Punkte]**\n",
    "\n",
    "Benennen Sie dieses IPython-Notebook um zu **`mug121_HA09_Name-Vorname_Name-Vorname.ipynb`** und entwickeln Sie in den Codezeilen weiter unten einen Code mit der folgenden Abfolge:\n",
    "\n",
    "1. Erstellen Sie einen auskommentierten Header (Kopfzeile) mit Zweck (HA09), Autoren (Ihre Namen), Datum und Programmiersprache.\n",
    "2. Erzeugen Sie einen NumPy-Array `data` mit der folgenden Struktur:\n",
    "    \n",
    "    * Die ersten beiden Dimensionen sind x- und y-Einträge für Koordinatengitter oder Stoffkonzentrationen etc., die dritte Dimension ist die Zeit `t`.\n",
    "    * Die Läge der Einträge ist Ihnen überlassen. <br><br>\n",
    "    \n",
    "    \n",
    "3. Lassen Sie sich die folgenden Eigenschaften der Matrix ausgeben:\n",
    "    1. Länge `len()`\n",
    "    2. Dimensionen `.shape`\n",
    "    3. Größe und Datentyp `.size`, `.itemsize`, `.nbytes`, `.dtype` <br><br>\n",
    "\n",
    "4. Plotten Sie `data` mithilfe der Funktionen aus matplotlib:\n",
    "\n",
    "    * Die ersten beiden Dimensionen auf die x- und y-Achse als 2D Plot oder Scatter-Plot.\n",
    "    * Die dritte Dimension (Zeit) in die Colormap und erzeugen Sie eine beschriftete Colorbar.<br><br>\n",
    "    \n",
    "   \n",
    "5. **Wichtig:** Kommentieren Sie Ihren Code: Was passiert in den einzelnen Zeilen / Blöcken? Lassen Sie sich außerdem die Ergebnisse der einzelnen Aufgaben auch mit `print` ausgeben.\n",
    "\n",
    "6. Speichern Sie Ihr Notebook (Diskette oben links im Notebook-Fenster, `File -> Save Notebook`, `Ctrl + S` oder `File -> Export Notebook As...`). <br><br>   \n",
    "\n",
    "<br>\n",
    "\n",
    "**Hinweise:**\n",
    "\n",
    "* Zum Kommentieren müssen Sie Ihrem Kommentar die Raute `#` voranstellen. Das kann in einer Zeile hinter Code durchgeführt werden.\n",
    "* Beachten Sie beim Indizieren von NumPy-ndarrays immer, dass das Schema gilt: **n-Dimensionen:** [start:stop:step, start:stop:step, start:stop:step, etc] mit Kommatrennung der Dimensionen.\n",
    "* Vorsicht bei der Verwendung von Attributen: Diese werden - anders als Funktionen und Methoden - ohne runde Klammern `()` aufgerufen.\n",
    "* Sollten Sie auf Fehler stoßen: Nicht verzweifeln! Tippen Sie Ihren Code, überprüfen Sie, ob Sie die Tippfehler gemacht haben und schreiben Sie bei unlösbaren Fehlern einen kurzen Kommentar-Text, was Sie an dem Fehler nicht verstehen.\n",
    "* Starten Sie bei Fehlern ggf. Ihren Kernel neu: Der Kernel sollte oben rechts auf *py3-general* eingestellt sein. Nutzen Sie `Run -> Restart Kernel and Run All Cells`.\n",
    "* Auch nicht funktionierender Code wird in dieser Hausaufgabe als Abgabe akzeptiert, sofern Sie Ihre Antwort \"sprechen\" lassen: **Code kommentieren! Und zwar soviel wie möglich!**<br>\n",
    "\n",
    "<br>"
   ]
  },
  {
   "cell_type": "code",
   "execution_count": 2,
   "metadata": {},
   "outputs": [],
   "source": [
    "# # Codezeile Aufgabe 1\n",
    "\n"
   ]
  },
  {
   "cell_type": "markdown",
   "metadata": {},
   "source": [
    "----\n",
    "\n",
    "**Aufgabe 2 - Abgabe:**\n",
    "\n",
    "Schicken Sie das IPython-Notebook **`mug121_HA09_Name-Vorname_Name-Vorname.ipynb`** an die folgende Mailadresse ab (mit Rechtsklick->Download oder File->Download kann das Notebook auf Ihren Computer heruntergeladen werden):\n",
    "   > **heidemann@geo.uni-bonn.de** mit dem Betreffspräfix **`[mug121]`**\n",
    "   \n",
    "\n",
    "   \n",
    "----\n"
   ]
  },
  {
   "cell_type": "code",
   "execution_count": null,
   "metadata": {},
   "outputs": [],
   "source": []
  }
 ],
 "metadata": {
  "kernelspec": {
   "display_name": "py3-general [conda env:py3-general]",
   "language": "python",
   "name": "conda-env-py3-general-py"
  },
  "language_info": {
   "codemirror_mode": {
    "name": "ipython",
    "version": 3
   },
   "file_extension": ".py",
   "mimetype": "text/x-python",
   "name": "python",
   "nbconvert_exporter": "python",
   "pygments_lexer": "ipython3",
   "version": "3.7.6"
  }
 },
 "nbformat": 4,
 "nbformat_minor": 4
}
